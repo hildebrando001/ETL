{
 "cells": [
  {
   "cell_type": "markdown",
   "id": "562bcf31-8592-4375-ad4e-922b5e23775c",
   "metadata": {},
   "source": [
    "# Analise de dados do Enem"
   ]
  },
  {
   "cell_type": "code",
   "execution_count": 194,
   "id": "29ca84f9-f937-4fc3-8475-dc089fc81e23",
   "metadata": {},
   "outputs": [],
   "source": [
    "import pandas as pd\n",
    "import matplotlib.pyplot as plt\n",
    "from dask import dataframe as dd # pip install dask[dataframe]\n",
    "import time as tm\n",
    "import re"
   ]
  },
  {
   "cell_type": "code",
   "execution_count": 136,
   "id": "eedcb636-066d-4852-8c3b-88dd7ef2934e",
   "metadata": {},
   "outputs": [],
   "source": [
    "# Ver encoding do csv\n",
    "# with open('dados/MICRODADOS_ENEM_2019.csv') as f:\n",
    "#     print(f)"
   ]
  },
  {
   "cell_type": "code",
   "execution_count": 2,
   "id": "08973184-2273-4526-80d0-a588a6912f9a",
   "metadata": {},
   "outputs": [],
   "source": [
    "df_enem = pd.read_csv('dados/MICRODADOS_ENEM_2019.csv', sep=';', encoding='ISO-8859-1', nrows=0)"
   ]
  },
  {
   "cell_type": "code",
   "execution_count": 3,
   "id": "4e17f8c8-c18c-4efa-b6ff-47541ada4b4d",
   "metadata": {
    "collapsed": true,
    "jupyter": {
     "outputs_hidden": true
    },
    "tags": []
   },
   "outputs": [
    {
     "data": {
      "text/plain": [
       "array(['NU_INSCRICAO', 'NU_ANO', 'CO_MUNICIPIO_RESIDENCIA',\n",
       "       'NO_MUNICIPIO_RESIDENCIA', 'CO_UF_RESIDENCIA', 'SG_UF_RESIDENCIA',\n",
       "       'NU_IDADE', 'TP_SEXO', 'TP_ESTADO_CIVIL', 'TP_COR_RACA',\n",
       "       'TP_NACIONALIDADE', 'CO_MUNICIPIO_NASCIMENTO',\n",
       "       'NO_MUNICIPIO_NASCIMENTO', 'CO_UF_NASCIMENTO', 'SG_UF_NASCIMENTO',\n",
       "       'TP_ST_CONCLUSAO', 'TP_ANO_CONCLUIU', 'TP_ESCOLA', 'TP_ENSINO',\n",
       "       'IN_TREINEIRO', 'CO_ESCOLA', 'CO_MUNICIPIO_ESC',\n",
       "       'NO_MUNICIPIO_ESC', 'CO_UF_ESC', 'SG_UF_ESC',\n",
       "       'TP_DEPENDENCIA_ADM_ESC', 'TP_LOCALIZACAO_ESC', 'TP_SIT_FUNC_ESC',\n",
       "       'IN_BAIXA_VISAO', 'IN_CEGUEIRA', 'IN_SURDEZ',\n",
       "       'IN_DEFICIENCIA_AUDITIVA', 'IN_SURDO_CEGUEIRA',\n",
       "       'IN_DEFICIENCIA_FISICA', 'IN_DEFICIENCIA_MENTAL',\n",
       "       'IN_DEFICIT_ATENCAO', 'IN_DISLEXIA', 'IN_DISCALCULIA',\n",
       "       'IN_AUTISMO', 'IN_VISAO_MONOCULAR', 'IN_OUTRA_DEF', 'IN_GESTANTE',\n",
       "       'IN_LACTANTE', 'IN_IDOSO', 'IN_ESTUDA_CLASSE_HOSPITALAR',\n",
       "       'IN_SEM_RECURSO', 'IN_BRAILLE', 'IN_AMPLIADA_24', 'IN_AMPLIADA_18',\n",
       "       'IN_LEDOR', 'IN_ACESSO', 'IN_TRANSCRICAO', 'IN_LIBRAS',\n",
       "       'IN_TEMPO_ADICIONAL', 'IN_LEITURA_LABIAL', 'IN_MESA_CADEIRA_RODAS',\n",
       "       'IN_MESA_CADEIRA_SEPARADA', 'IN_APOIO_PERNA', 'IN_GUIA_INTERPRETE',\n",
       "       'IN_COMPUTADOR', 'IN_CADEIRA_ESPECIAL', 'IN_CADEIRA_CANHOTO',\n",
       "       'IN_CADEIRA_ACOLCHOADA', 'IN_PROVA_DEITADO', 'IN_MOBILIARIO_OBESO',\n",
       "       'IN_LAMINA_OVERLAY', 'IN_PROTETOR_AURICULAR', 'IN_MEDIDOR_GLICOSE',\n",
       "       'IN_MAQUINA_BRAILE', 'IN_SOROBAN', 'IN_MARCA_PASSO', 'IN_SONDA',\n",
       "       'IN_MEDICAMENTOS', 'IN_SALA_INDIVIDUAL', 'IN_SALA_ESPECIAL',\n",
       "       'IN_SALA_ACOMPANHANTE', 'IN_MOBILIARIO_ESPECIFICO',\n",
       "       'IN_MATERIAL_ESPECIFICO', 'IN_NOME_SOCIAL', 'CO_MUNICIPIO_PROVA',\n",
       "       'NO_MUNICIPIO_PROVA', 'CO_UF_PROVA', 'SG_UF_PROVA',\n",
       "       'TP_PRESENCA_CN', 'TP_PRESENCA_CH', 'TP_PRESENCA_LC',\n",
       "       'TP_PRESENCA_MT', 'CO_PROVA_CN', 'CO_PROVA_CH', 'CO_PROVA_LC',\n",
       "       'CO_PROVA_MT', 'NU_NOTA_CN', 'NU_NOTA_CH', 'NU_NOTA_LC',\n",
       "       'NU_NOTA_MT', 'TX_RESPOSTAS_CN', 'TX_RESPOSTAS_CH',\n",
       "       'TX_RESPOSTAS_LC', 'TX_RESPOSTAS_MT', 'TP_LINGUA',\n",
       "       'TX_GABARITO_CN', 'TX_GABARITO_CH', 'TX_GABARITO_LC',\n",
       "       'TX_GABARITO_MT', 'TP_STATUS_REDACAO', 'NU_NOTA_COMP1',\n",
       "       'NU_NOTA_COMP2', 'NU_NOTA_COMP3', 'NU_NOTA_COMP4', 'NU_NOTA_COMP5',\n",
       "       'NU_NOTA_REDACAO', 'Q001', 'Q002', 'Q003', 'Q004', 'Q005', 'Q006',\n",
       "       'Q007', 'Q008', 'Q009', 'Q010', 'Q011', 'Q012', 'Q013', 'Q014',\n",
       "       'Q015', 'Q016', 'Q017', 'Q018', 'Q019', 'Q020', 'Q021', 'Q022',\n",
       "       'Q023', 'Q024', 'Q025'], dtype=object)"
      ]
     },
     "execution_count": 3,
     "metadata": {},
     "output_type": "execute_result"
    }
   ],
   "source": [
    "df_enem.columns.values"
   ]
  },
  {
   "cell_type": "code",
   "execution_count": 4,
   "id": "4779346c-80e0-4bd2-bcd2-8ebc78b3edf3",
   "metadata": {},
   "outputs": [],
   "source": [
    "colunas = ['NU_INSCRICAO', 'NU_ANO', 'CO_MUNICIPIO_RESIDENCIA',\n",
    "       'NO_MUNICIPIO_RESIDENCIA', 'SG_UF_RESIDENCIA',\n",
    "       'NU_IDADE', 'TP_SEXO', 'TP_ESTADO_CIVIL', 'TP_COR_RACA',\n",
    "       'TP_NACIONALIDADE', 'CO_MUNICIPIO_NASCIMENTO',\n",
    "       'NO_MUNICIPIO_NASCIMENTO', 'SG_UF_NASCIMENTO',\n",
    "       'TP_ESCOLA', 'TP_ENSINO', 'CO_MUNICIPIO_PROVA',\n",
    "       'NO_MUNICIPIO_PROVA', 'SG_UF_PROVA',\n",
    "       'NU_NOTA_REDACAO', 'Q001', 'Q002', 'Q003', 'Q004', 'Q005', 'Q006',\n",
    "       'Q007', 'Q008', 'Q009', 'Q010', 'Q011', 'Q012', 'Q013', 'Q014',\n",
    "       'Q015', 'Q016', 'Q017', 'Q018', 'Q019', 'Q020', 'Q021', 'Q022',\n",
    "       'Q023', 'Q024', 'Q025']"
   ]
  },
  {
   "cell_type": "code",
   "execution_count": 5,
   "id": "c7843751-a405-488a-9100-670b4a509e6e",
   "metadata": {},
   "outputs": [],
   "source": [
    "colunas_selec = ['NU_INSCRICAO', 'NU_ANO', 'CO_MUNICIPIO_RESIDENCIA',\n",
    "       'NO_MUNICIPIO_RESIDENCIA', 'SG_UF_RESIDENCIA',\n",
    "       'NU_IDADE', 'TP_SEXO', 'TP_ESTADO_CIVIL', 'TP_COR_RACA',\n",
    "       'TP_ESCOLA', 'TP_ENSINO',\n",
    "       'NU_NOTA_REDACAO', 'Q001', 'Q002']"
   ]
  },
  {
   "cell_type": "code",
   "execution_count": 6,
   "id": "a239468b-9b55-41fe-ac23-28ef84b6efda",
   "metadata": {
    "tags": []
   },
   "outputs": [
    {
     "name": "stdout",
     "output_type": "stream",
     "text": [
      "Duração: 45.39 segundos\n"
     ]
    }
   ],
   "source": [
    "inicio = tm.time()\n",
    "\n",
    "dd_enem = dd.read_csv('dados/MICRODADOS_ENEM_2019.csv', blocksize=100*1024*1024, usecols=colunas_selec, sep=';', encoding='ISO-8859-1')\n",
    "enem = dd_enem.compute(num_workers=8)\n",
    "\n",
    "fim = tm.time()\n",
    "\n",
    "print(\"Duração:\", round(fim-inicio,2), \"segundos\")"
   ]
  },
  {
   "cell_type": "code",
   "execution_count": 7,
   "id": "cdf59c10-0105-4b2b-8cd6-adf55a6661ac",
   "metadata": {},
   "outputs": [
    {
     "data": {
      "text/plain": [
       "8.25"
      ]
     },
     "execution_count": 7,
     "metadata": {},
     "output_type": "execute_result"
    }
   ],
   "source": [
    "495/60"
   ]
  },
  {
   "cell_type": "code",
   "execution_count": 8,
   "id": "cce7fe2c-bacc-4837-a116-a08678f13f73",
   "metadata": {
    "tags": []
   },
   "outputs": [
    {
     "name": "stdout",
     "output_type": "stream",
     "text": [
      "<class 'pandas.core.frame.DataFrame'>\n",
      "Int64Index: 5095270 entries, 0 to 91021\n",
      "Data columns (total 14 columns):\n",
      " #   Column                   Dtype  \n",
      "---  ------                   -----  \n",
      " 0   NU_INSCRICAO             int64  \n",
      " 1   NU_ANO                   int64  \n",
      " 2   CO_MUNICIPIO_RESIDENCIA  int64  \n",
      " 3   NO_MUNICIPIO_RESIDENCIA  object \n",
      " 4   SG_UF_RESIDENCIA         object \n",
      " 5   NU_IDADE                 int64  \n",
      " 6   TP_SEXO                  object \n",
      " 7   TP_ESTADO_CIVIL          int64  \n",
      " 8   TP_COR_RACA              int64  \n",
      " 9   TP_ESCOLA                int64  \n",
      " 10  TP_ENSINO                float64\n",
      " 11  NU_NOTA_REDACAO          float64\n",
      " 12  Q001                     object \n",
      " 13  Q002                     object \n",
      "dtypes: float64(2), int64(7), object(5)\n",
      "memory usage: 1.9 GB\n"
     ]
    }
   ],
   "source": [
    "enem.info(memory_usage='deep')"
   ]
  },
  {
   "cell_type": "code",
   "execution_count": 9,
   "id": "b59d937f-0051-4894-bcbe-f96412211a55",
   "metadata": {},
   "outputs": [
    {
     "name": "stdout",
     "output_type": "stream",
     "text": [
      "Total de memória utilizada por object: 1545.94 MB\n",
      "Total de memória utilizada por float64: 116.62 MB\n",
      "Total de memória utilizada por int64: 310.99 MB\n"
     ]
    }
   ],
   "source": [
    "for tipos in ['object', 'float64', 'int64']:\n",
    "    selecao_tipos = enem.select_dtypes(include=[tipos])\n",
    "    total_usado_b  = selecao_tipos.memory_usage(deep=True).sum()\n",
    "    total_usado_mb = round(total_usado_b / 1024 ** 2, 2)\n",
    "    print(f\"Total de memória utilizada por {tipos}: {total_usado_mb} MB\")"
   ]
  },
  {
   "cell_type": "code",
   "execution_count": 10,
   "id": "d2c96653-f009-4656-a3ad-bb31c934fae1",
   "metadata": {},
   "outputs": [
    {
     "data": {
      "text/html": [
       "<div>\n",
       "<style scoped>\n",
       "    .dataframe tbody tr th:only-of-type {\n",
       "        vertical-align: middle;\n",
       "    }\n",
       "\n",
       "    .dataframe tbody tr th {\n",
       "        vertical-align: top;\n",
       "    }\n",
       "\n",
       "    .dataframe thead th {\n",
       "        text-align: right;\n",
       "    }\n",
       "</style>\n",
       "<table border=\"1\" class=\"dataframe\">\n",
       "  <thead>\n",
       "    <tr style=\"text-align: right;\">\n",
       "      <th></th>\n",
       "      <th>NU_INSCRICAO</th>\n",
       "      <th>NU_ANO</th>\n",
       "      <th>CO_MUNICIPIO_RESIDENCIA</th>\n",
       "      <th>NO_MUNICIPIO_RESIDENCIA</th>\n",
       "      <th>SG_UF_RESIDENCIA</th>\n",
       "      <th>NU_IDADE</th>\n",
       "      <th>TP_SEXO</th>\n",
       "      <th>TP_ESTADO_CIVIL</th>\n",
       "      <th>TP_COR_RACA</th>\n",
       "      <th>TP_ESCOLA</th>\n",
       "      <th>TP_ENSINO</th>\n",
       "      <th>NU_NOTA_REDACAO</th>\n",
       "      <th>Q001</th>\n",
       "      <th>Q002</th>\n",
       "    </tr>\n",
       "  </thead>\n",
       "  <tbody>\n",
       "    <tr>\n",
       "      <th>0</th>\n",
       "      <td>190001004627</td>\n",
       "      <td>2019</td>\n",
       "      <td>1506807</td>\n",
       "      <td>Santarém</td>\n",
       "      <td>PA</td>\n",
       "      <td>21</td>\n",
       "      <td>M</td>\n",
       "      <td>1</td>\n",
       "      <td>3</td>\n",
       "      <td>1</td>\n",
       "      <td>NaN</td>\n",
       "      <td>780.0</td>\n",
       "      <td>D</td>\n",
       "      <td>E</td>\n",
       "    </tr>\n",
       "    <tr>\n",
       "      <th>1</th>\n",
       "      <td>190001004628</td>\n",
       "      <td>2019</td>\n",
       "      <td>1504059</td>\n",
       "      <td>Mãe do Rio</td>\n",
       "      <td>PA</td>\n",
       "      <td>16</td>\n",
       "      <td>F</td>\n",
       "      <td>1</td>\n",
       "      <td>3</td>\n",
       "      <td>1</td>\n",
       "      <td>NaN</td>\n",
       "      <td>600.0</td>\n",
       "      <td>D</td>\n",
       "      <td>E</td>\n",
       "    </tr>\n",
       "    <tr>\n",
       "      <th>2</th>\n",
       "      <td>190001004629</td>\n",
       "      <td>2019</td>\n",
       "      <td>1505502</td>\n",
       "      <td>Paragominas</td>\n",
       "      <td>PA</td>\n",
       "      <td>18</td>\n",
       "      <td>F</td>\n",
       "      <td>1</td>\n",
       "      <td>1</td>\n",
       "      <td>3</td>\n",
       "      <td>1.0</td>\n",
       "      <td>640.0</td>\n",
       "      <td>H</td>\n",
       "      <td>E</td>\n",
       "    </tr>\n",
       "    <tr>\n",
       "      <th>3</th>\n",
       "      <td>190001004630</td>\n",
       "      <td>2019</td>\n",
       "      <td>1507706</td>\n",
       "      <td>São Sebastião da Boa Vista</td>\n",
       "      <td>PA</td>\n",
       "      <td>23</td>\n",
       "      <td>M</td>\n",
       "      <td>0</td>\n",
       "      <td>3</td>\n",
       "      <td>2</td>\n",
       "      <td>1.0</td>\n",
       "      <td>NaN</td>\n",
       "      <td>D</td>\n",
       "      <td>D</td>\n",
       "    </tr>\n",
       "    <tr>\n",
       "      <th>4</th>\n",
       "      <td>190001004631</td>\n",
       "      <td>2019</td>\n",
       "      <td>1503903</td>\n",
       "      <td>Juruti</td>\n",
       "      <td>PA</td>\n",
       "      <td>23</td>\n",
       "      <td>M</td>\n",
       "      <td>1</td>\n",
       "      <td>3</td>\n",
       "      <td>1</td>\n",
       "      <td>1.0</td>\n",
       "      <td>NaN</td>\n",
       "      <td>B</td>\n",
       "      <td>C</td>\n",
       "    </tr>\n",
       "  </tbody>\n",
       "</table>\n",
       "</div>"
      ],
      "text/plain": [
       "   NU_INSCRICAO  NU_ANO  CO_MUNICIPIO_RESIDENCIA     NO_MUNICIPIO_RESIDENCIA  \\\n",
       "0  190001004627    2019                  1506807                    Santarém   \n",
       "1  190001004628    2019                  1504059                  Mãe do Rio   \n",
       "2  190001004629    2019                  1505502                 Paragominas   \n",
       "3  190001004630    2019                  1507706  São Sebastião da Boa Vista   \n",
       "4  190001004631    2019                  1503903                      Juruti   \n",
       "\n",
       "  SG_UF_RESIDENCIA  NU_IDADE TP_SEXO  TP_ESTADO_CIVIL  TP_COR_RACA  TP_ESCOLA  \\\n",
       "0               PA        21       M                1            3          1   \n",
       "1               PA        16       F                1            3          1   \n",
       "2               PA        18       F                1            1          3   \n",
       "3               PA        23       M                0            3          2   \n",
       "4               PA        23       M                1            3          1   \n",
       "\n",
       "   TP_ENSINO  NU_NOTA_REDACAO Q001 Q002  \n",
       "0        NaN            780.0    D    E  \n",
       "1        NaN            600.0    D    E  \n",
       "2        1.0            640.0    H    E  \n",
       "3        1.0              NaN    D    D  \n",
       "4        1.0              NaN    B    C  "
      ]
     },
     "execution_count": 10,
     "metadata": {},
     "output_type": "execute_result"
    }
   ],
   "source": [
    "enem.head()"
   ]
  },
  {
   "cell_type": "code",
   "execution_count": 11,
   "id": "06dc4abf-f9f8-4d98-937a-dba6d3b9a0a2",
   "metadata": {},
   "outputs": [
    {
     "data": {
      "text/plain": [
       "Abadia de Goiás         283\n",
       "Abadia dos Dourados     140\n",
       "Abadiânia               280\n",
       "Abaetetuba             6821\n",
       "Abaeté                  495\n",
       "                       ... \n",
       "Áurea                    68\n",
       "Ângulo                   44\n",
       "Érico Cardoso           127\n",
       "Óbidos                 1313\n",
       "Óleo                     46\n",
       "Name: NO_MUNICIPIO_RESIDENCIA, Length: 5299, dtype: int64"
      ]
     },
     "execution_count": 11,
     "metadata": {},
     "output_type": "execute_result"
    }
   ],
   "source": [
    "enem['NO_MUNICIPIO_RESIDENCIA'].value_counts().sort_index()"
   ]
  },
  {
   "cell_type": "code",
   "execution_count": 12,
   "id": "37b0f069-9d75-4a0c-b12b-3f4f634fa9bb",
   "metadata": {},
   "outputs": [
    {
     "data": {
      "text/plain": [
       "1     2\n",
       "2     4\n",
       "3     4\n",
       "4     2\n",
       "5     5\n",
       "     ..\n",
       "87    1\n",
       "88    1\n",
       "91    2\n",
       "92    1\n",
       "94    1\n",
       "Name: NU_IDADE, Length: 91, dtype: int64"
      ]
     },
     "execution_count": 12,
     "metadata": {},
     "output_type": "execute_result"
    }
   ],
   "source": [
    "enem['NU_IDADE'].value_counts().sort_index()"
   ]
  },
  {
   "cell_type": "code",
   "execution_count": 13,
   "id": "7da440cb-a8b9-4a43-b597-43f428344446",
   "metadata": {},
   "outputs": [
    {
     "data": {
      "text/plain": [
       "18    864186\n",
       "17    847303\n",
       "19    577161\n",
       "20    409385\n",
       "16    316437\n",
       "       ...  \n",
       "4          2\n",
       "87         1\n",
       "88         1\n",
       "92         1\n",
       "94         1\n",
       "Name: NU_IDADE, Length: 91, dtype: int64"
      ]
     },
     "execution_count": 13,
     "metadata": {},
     "output_type": "execute_result"
    }
   ],
   "source": [
    "enem['NU_IDADE'].value_counts()"
   ]
  },
  {
   "cell_type": "code",
   "execution_count": 14,
   "id": "92967e5d-f7c0-4ba3-8846-86c94f73020d",
   "metadata": {},
   "outputs": [
    {
     "data": {
      "text/plain": [
       "<AxesSubplot:>"
      ]
     },
     "execution_count": 14,
     "metadata": {},
     "output_type": "execute_result"
    },
    {
     "data": {
      "image/png": "[encoded data removed]",
      "text/plain": [
       "<Figure size 432x288 with 1 Axes>"
      ]
     },
     "metadata": {
      "needs_background": "light"
     },
     "output_type": "display_data"
    }
   ],
   "source": [
    "enem['NU_IDADE'].hist(bins=91)"
   ]
  },
  {
   "cell_type": "code",
   "execution_count": 15,
   "id": "da7f1bec-fc5f-4fc9-b614-51bfdc4531d5",
   "metadata": {},
   "outputs": [
    {
     "data": {
      "text/plain": [
       "SP    813772\n",
       "MG    538896\n",
       "BA    398095\n",
       "RJ    338710\n",
       "CE    295870\n",
       "PA    281518\n",
       "PE    271727\n",
       "MA    219673\n",
       "RS    218763\n",
       "PR    210080\n",
       "GO    170147\n",
       "PB    147780\n",
       "PI    121181\n",
       "RN    119179\n",
       "AM    118087\n",
       "SC    109515\n",
       "ES    102435\n",
       "DF     94352\n",
       "AL     91707\n",
       "MT     88349\n",
       "SE     75895\n",
       "MS     70157\n",
       "RO     58885\n",
       "TO     47181\n",
       "AP     42140\n",
       "AC     38229\n",
       "RR     12947\n",
       "Name: SG_UF_RESIDENCIA, dtype: int64"
      ]
     },
     "execution_count": 15,
     "metadata": {},
     "output_type": "execute_result"
    }
   ],
   "source": [
    "enem['SG_UF_RESIDENCIA'].value_counts()"
   ]
  },
  {
   "cell_type": "code",
   "execution_count": 16,
   "id": "9b65bd74-fef4-4aaa-97ed-c71e6a0e7d4c",
   "metadata": {},
   "outputs": [
    {
     "data": {
      "text/plain": [
       "F    3031822\n",
       "M    2063448\n",
       "Name: TP_SEXO, dtype: int64"
      ]
     },
     "execution_count": 16,
     "metadata": {},
     "output_type": "execute_result"
    }
   ],
   "source": [
    "dist_sexo = enem['TP_SEXO'].value_counts()\n",
    "dist_sexo"
   ]
  },
  {
   "cell_type": "code",
   "execution_count": 17,
   "id": "535e0df0-cc8a-4e0d-aa53-e8f8317da8fb",
   "metadata": {},
   "outputs": [
    {
     "name": "stdout",
     "output_type": "stream",
     "text": [
      "59.50267601128105% para mulheres e 40.49732398871895% para homens.\n"
     ]
    }
   ],
   "source": [
    "# Calculo de percetual com List Compreention\n",
    "percent_sexo = [100 * x / dist_sexo.sum() for x in dist_sexo]\n",
    "print(f\"{percent_sexo[0]}% para mulheres e {percent_sexo[1]}% para homens.\")"
   ]
  },
  {
   "cell_type": "code",
   "execution_count": 18,
   "id": "e972712f-8a12-4834-a900-6489aa376896",
   "metadata": {},
   "outputs": [],
   "source": [
    "colunas_sexo_redacao = ['TP_SEXO', 'NU_NOTA_REDACAO']"
   ]
  },
  {
   "cell_type": "code",
   "execution_count": 19,
   "id": "010947a0-f8f8-4fb9-bd4f-8dca2cc4ee9c",
   "metadata": {},
   "outputs": [],
   "source": [
    "# Filtrando DataFrame\n",
    "enem_sexo_redacao = enem.filter(items=colunas_sexo_redacao)"
   ]
  },
  {
   "cell_type": "code",
   "execution_count": 20,
   "id": "057f0302-d211-4216-9f33-ffb454c4bcb1",
   "metadata": {},
   "outputs": [
    {
     "data": {
      "text/html": [
       "<div>\n",
       "<style scoped>\n",
       "    .dataframe tbody tr th:only-of-type {\n",
       "        vertical-align: middle;\n",
       "    }\n",
       "\n",
       "    .dataframe tbody tr th {\n",
       "        vertical-align: top;\n",
       "    }\n",
       "\n",
       "    .dataframe thead th {\n",
       "        text-align: right;\n",
       "    }\n",
       "</style>\n",
       "<table border=\"1\" class=\"dataframe\">\n",
       "  <thead>\n",
       "    <tr style=\"text-align: right;\">\n",
       "      <th></th>\n",
       "      <th>TP_SEXO</th>\n",
       "      <th>NU_NOTA_REDACAO</th>\n",
       "    </tr>\n",
       "  </thead>\n",
       "  <tbody>\n",
       "    <tr>\n",
       "      <th>0</th>\n",
       "      <td>M</td>\n",
       "      <td>780.0</td>\n",
       "    </tr>\n",
       "    <tr>\n",
       "      <th>1</th>\n",
       "      <td>F</td>\n",
       "      <td>600.0</td>\n",
       "    </tr>\n",
       "    <tr>\n",
       "      <th>2</th>\n",
       "      <td>F</td>\n",
       "      <td>640.0</td>\n",
       "    </tr>\n",
       "    <tr>\n",
       "      <th>3</th>\n",
       "      <td>M</td>\n",
       "      <td>NaN</td>\n",
       "    </tr>\n",
       "    <tr>\n",
       "      <th>4</th>\n",
       "      <td>M</td>\n",
       "      <td>NaN</td>\n",
       "    </tr>\n",
       "  </tbody>\n",
       "</table>\n",
       "</div>"
      ],
      "text/plain": [
       "  TP_SEXO  NU_NOTA_REDACAO\n",
       "0       M            780.0\n",
       "1       F            600.0\n",
       "2       F            640.0\n",
       "3       M              NaN\n",
       "4       M              NaN"
      ]
     },
     "execution_count": 20,
     "metadata": {},
     "output_type": "execute_result"
    }
   ],
   "source": [
    "enem_sexo_redacao.head()"
   ]
  },
  {
   "cell_type": "code",
   "execution_count": 21,
   "id": "0b9c0b88-9099-4b26-a912-ac2762c52042",
   "metadata": {},
   "outputs": [],
   "source": [
    "enem_sexo_redacao = enem_sexo_redacao.dropna()"
   ]
  },
  {
   "cell_type": "code",
   "execution_count": 22,
   "id": "8163a459-d229-41f7-955c-e5f89de63955",
   "metadata": {},
   "outputs": [
    {
     "data": {
      "text/html": [
       "<div>\n",
       "<style scoped>\n",
       "    .dataframe tbody tr th:only-of-type {\n",
       "        vertical-align: middle;\n",
       "    }\n",
       "\n",
       "    .dataframe tbody tr th {\n",
       "        vertical-align: top;\n",
       "    }\n",
       "\n",
       "    .dataframe thead th {\n",
       "        text-align: right;\n",
       "    }\n",
       "</style>\n",
       "<table border=\"1\" class=\"dataframe\">\n",
       "  <thead>\n",
       "    <tr style=\"text-align: right;\">\n",
       "      <th></th>\n",
       "      <th>TP_SEXO</th>\n",
       "      <th>NU_NOTA_REDACAO</th>\n",
       "    </tr>\n",
       "  </thead>\n",
       "  <tbody>\n",
       "    <tr>\n",
       "      <th>0</th>\n",
       "      <td>M</td>\n",
       "      <td>780.0</td>\n",
       "    </tr>\n",
       "    <tr>\n",
       "      <th>1</th>\n",
       "      <td>F</td>\n",
       "      <td>600.0</td>\n",
       "    </tr>\n",
       "    <tr>\n",
       "      <th>2</th>\n",
       "      <td>F</td>\n",
       "      <td>640.0</td>\n",
       "    </tr>\n",
       "    <tr>\n",
       "      <th>5</th>\n",
       "      <td>M</td>\n",
       "      <td>580.0</td>\n",
       "    </tr>\n",
       "    <tr>\n",
       "      <th>6</th>\n",
       "      <td>F</td>\n",
       "      <td>360.0</td>\n",
       "    </tr>\n",
       "  </tbody>\n",
       "</table>\n",
       "</div>"
      ],
      "text/plain": [
       "  TP_SEXO  NU_NOTA_REDACAO\n",
       "0       M            780.0\n",
       "1       F            600.0\n",
       "2       F            640.0\n",
       "5       M            580.0\n",
       "6       F            360.0"
      ]
     },
     "execution_count": 22,
     "metadata": {},
     "output_type": "execute_result"
    }
   ],
   "source": [
    "enem_sexo_redacao.head()"
   ]
  },
  {
   "cell_type": "code",
   "execution_count": 23,
   "id": "2e847c01-4ad3-43b1-b74a-357d0aed494a",
   "metadata": {},
   "outputs": [
    {
     "data": {
      "text/html": [
       "<div>\n",
       "<style scoped>\n",
       "    .dataframe tbody tr th:only-of-type {\n",
       "        vertical-align: middle;\n",
       "    }\n",
       "\n",
       "    .dataframe tbody tr th {\n",
       "        vertical-align: top;\n",
       "    }\n",
       "\n",
       "    .dataframe thead th {\n",
       "        text-align: right;\n",
       "    }\n",
       "</style>\n",
       "<table border=\"1\" class=\"dataframe\">\n",
       "  <thead>\n",
       "    <tr style=\"text-align: right;\">\n",
       "      <th></th>\n",
       "      <th>NU_NOTA_REDACAO</th>\n",
       "    </tr>\n",
       "    <tr>\n",
       "      <th>TP_SEXO</th>\n",
       "      <th></th>\n",
       "    </tr>\n",
       "  </thead>\n",
       "  <tbody>\n",
       "    <tr>\n",
       "      <th>F</th>\n",
       "      <td>2336431</td>\n",
       "    </tr>\n",
       "    <tr>\n",
       "      <th>M</th>\n",
       "      <td>1586713</td>\n",
       "    </tr>\n",
       "  </tbody>\n",
       "</table>\n",
       "</div>"
      ],
      "text/plain": [
       "         NU_NOTA_REDACAO\n",
       "TP_SEXO                 \n",
       "F                2336431\n",
       "M                1586713"
      ]
     },
     "execution_count": 23,
     "metadata": {},
     "output_type": "execute_result"
    }
   ],
   "source": [
    "enem_sexo_redacao.groupby('TP_SEXO').count()"
   ]
  },
  {
   "cell_type": "code",
   "execution_count": 24,
   "id": "afb3cf31-d7dd-4883-9572-4c2ba50eb314",
   "metadata": {},
   "outputs": [
    {
     "data": {
      "text/html": [
       "<div>\n",
       "<style scoped>\n",
       "    .dataframe tbody tr th:only-of-type {\n",
       "        vertical-align: middle;\n",
       "    }\n",
       "\n",
       "    .dataframe tbody tr th {\n",
       "        vertical-align: top;\n",
       "    }\n",
       "\n",
       "    .dataframe thead th {\n",
       "        text-align: right;\n",
       "    }\n",
       "</style>\n",
       "<table border=\"1\" class=\"dataframe\">\n",
       "  <thead>\n",
       "    <tr style=\"text-align: right;\">\n",
       "      <th></th>\n",
       "      <th>NU_NOTA_REDACAO</th>\n",
       "    </tr>\n",
       "    <tr>\n",
       "      <th>TP_SEXO</th>\n",
       "      <th></th>\n",
       "    </tr>\n",
       "  </thead>\n",
       "  <tbody>\n",
       "    <tr>\n",
       "      <th>F</th>\n",
       "      <td>1000.0</td>\n",
       "    </tr>\n",
       "    <tr>\n",
       "      <th>M</th>\n",
       "      <td>1000.0</td>\n",
       "    </tr>\n",
       "  </tbody>\n",
       "</table>\n",
       "</div>"
      ],
      "text/plain": [
       "         NU_NOTA_REDACAO\n",
       "TP_SEXO                 \n",
       "F                 1000.0\n",
       "M                 1000.0"
      ]
     },
     "execution_count": 24,
     "metadata": {},
     "output_type": "execute_result"
    }
   ],
   "source": [
    "enem_sexo_redacao.groupby(\"TP_SEXO\").max()"
   ]
  },
  {
   "cell_type": "code",
   "execution_count": 25,
   "id": "f07cdabc-e333-4b0e-9760-4a6316885577",
   "metadata": {},
   "outputs": [
    {
     "data": {
      "text/html": [
       "<div>\n",
       "<style scoped>\n",
       "    .dataframe tbody tr th:only-of-type {\n",
       "        vertical-align: middle;\n",
       "    }\n",
       "\n",
       "    .dataframe tbody tr th {\n",
       "        vertical-align: top;\n",
       "    }\n",
       "\n",
       "    .dataframe thead th {\n",
       "        text-align: right;\n",
       "    }\n",
       "</style>\n",
       "<table border=\"1\" class=\"dataframe\">\n",
       "  <thead>\n",
       "    <tr style=\"text-align: right;\">\n",
       "      <th></th>\n",
       "      <th>NU_NOTA_REDACAO</th>\n",
       "    </tr>\n",
       "    <tr>\n",
       "      <th>TP_SEXO</th>\n",
       "      <th></th>\n",
       "    </tr>\n",
       "  </thead>\n",
       "  <tbody>\n",
       "    <tr>\n",
       "      <th>F</th>\n",
       "      <td>0.0</td>\n",
       "    </tr>\n",
       "    <tr>\n",
       "      <th>M</th>\n",
       "      <td>0.0</td>\n",
       "    </tr>\n",
       "  </tbody>\n",
       "</table>\n",
       "</div>"
      ],
      "text/plain": [
       "         NU_NOTA_REDACAO\n",
       "TP_SEXO                 \n",
       "F                    0.0\n",
       "M                    0.0"
      ]
     },
     "execution_count": 25,
     "metadata": {},
     "output_type": "execute_result"
    }
   ],
   "source": [
    "enem_sexo_redacao.groupby(\"TP_SEXO\").min()"
   ]
  },
  {
   "cell_type": "code",
   "execution_count": 26,
   "id": "d1c9c54e-5ea5-4cd1-a672-ee5a5f92f538",
   "metadata": {},
   "outputs": [
    {
     "data": {
      "text/html": [
       "<div>\n",
       "<style scoped>\n",
       "    .dataframe tbody tr th:only-of-type {\n",
       "        vertical-align: middle;\n",
       "    }\n",
       "\n",
       "    .dataframe tbody tr th {\n",
       "        vertical-align: top;\n",
       "    }\n",
       "\n",
       "    .dataframe thead th {\n",
       "        text-align: right;\n",
       "    }\n",
       "</style>\n",
       "<table border=\"1\" class=\"dataframe\">\n",
       "  <thead>\n",
       "    <tr style=\"text-align: right;\">\n",
       "      <th></th>\n",
       "      <th>NU_NOTA_REDACAO</th>\n",
       "    </tr>\n",
       "    <tr>\n",
       "      <th>TP_SEXO</th>\n",
       "      <th></th>\n",
       "    </tr>\n",
       "  </thead>\n",
       "  <tbody>\n",
       "    <tr>\n",
       "      <th>F</th>\n",
       "      <td>40.0</td>\n",
       "    </tr>\n",
       "    <tr>\n",
       "      <th>M</th>\n",
       "      <td>40.0</td>\n",
       "    </tr>\n",
       "  </tbody>\n",
       "</table>\n",
       "</div>"
      ],
      "text/plain": [
       "         NU_NOTA_REDACAO\n",
       "TP_SEXO                 \n",
       "F                   40.0\n",
       "M                   40.0"
      ]
     },
     "execution_count": 26,
     "metadata": {},
     "output_type": "execute_result"
    }
   ],
   "source": [
    "enem_sexo_redacao[enem_sexo_redacao.NU_NOTA_REDACAO > 0].groupby('TP_SEXO').min()"
   ]
  },
  {
   "cell_type": "code",
   "execution_count": 27,
   "id": "9412bd8e-631a-45e8-a7a4-b203887697eb",
   "metadata": {},
   "outputs": [
    {
     "data": {
      "text/html": [
       "<div>\n",
       "<style scoped>\n",
       "    .dataframe tbody tr th:only-of-type {\n",
       "        vertical-align: middle;\n",
       "    }\n",
       "\n",
       "    .dataframe tbody tr th {\n",
       "        vertical-align: top;\n",
       "    }\n",
       "\n",
       "    .dataframe thead th {\n",
       "        text-align: right;\n",
       "    }\n",
       "</style>\n",
       "<table border=\"1\" class=\"dataframe\">\n",
       "  <thead>\n",
       "    <tr style=\"text-align: right;\">\n",
       "      <th></th>\n",
       "      <th>NU_NOTA_REDACAO</th>\n",
       "    </tr>\n",
       "    <tr>\n",
       "      <th>TP_SEXO</th>\n",
       "      <th></th>\n",
       "    </tr>\n",
       "  </thead>\n",
       "  <tbody>\n",
       "    <tr>\n",
       "      <th>F</th>\n",
       "      <td>60.0</td>\n",
       "    </tr>\n",
       "    <tr>\n",
       "      <th>M</th>\n",
       "      <td>60.0</td>\n",
       "    </tr>\n",
       "  </tbody>\n",
       "</table>\n",
       "</div>"
      ],
      "text/plain": [
       "         NU_NOTA_REDACAO\n",
       "TP_SEXO                 \n",
       "F                   60.0\n",
       "M                   60.0"
      ]
     },
     "execution_count": 27,
     "metadata": {},
     "output_type": "execute_result"
    }
   ],
   "source": [
    "enem_sexo_redacao[enem_sexo_redacao.NU_NOTA_REDACAO > 40].groupby('TP_SEXO').min()"
   ]
  },
  {
   "cell_type": "code",
   "execution_count": 28,
   "id": "8fe5fbf4-a0c8-47e5-a443-1b310b699f63",
   "metadata": {},
   "outputs": [
    {
     "data": {
      "text/html": [
       "<div>\n",
       "<style scoped>\n",
       "    .dataframe tbody tr th:only-of-type {\n",
       "        vertical-align: middle;\n",
       "    }\n",
       "\n",
       "    .dataframe tbody tr th {\n",
       "        vertical-align: top;\n",
       "    }\n",
       "\n",
       "    .dataframe thead th {\n",
       "        text-align: right;\n",
       "    }\n",
       "</style>\n",
       "<table border=\"1\" class=\"dataframe\">\n",
       "  <thead>\n",
       "    <tr style=\"text-align: right;\">\n",
       "      <th></th>\n",
       "      <th>NU_NOTA_REDACAO</th>\n",
       "    </tr>\n",
       "    <tr>\n",
       "      <th>TP_SEXO</th>\n",
       "      <th></th>\n",
       "    </tr>\n",
       "  </thead>\n",
       "  <tbody>\n",
       "    <tr>\n",
       "      <th>F</th>\n",
       "      <td>80.0</td>\n",
       "    </tr>\n",
       "    <tr>\n",
       "      <th>M</th>\n",
       "      <td>80.0</td>\n",
       "    </tr>\n",
       "  </tbody>\n",
       "</table>\n",
       "</div>"
      ],
      "text/plain": [
       "         NU_NOTA_REDACAO\n",
       "TP_SEXO                 \n",
       "F                   80.0\n",
       "M                   80.0"
      ]
     },
     "execution_count": 28,
     "metadata": {},
     "output_type": "execute_result"
    }
   ],
   "source": [
    "enem_sexo_redacao[enem_sexo_redacao.NU_NOTA_REDACAO > 60].groupby('TP_SEXO').min()"
   ]
  },
  {
   "cell_type": "code",
   "execution_count": 29,
   "id": "871dbe51-ef19-4ef8-b6f0-09430e4a2b5e",
   "metadata": {},
   "outputs": [
    {
     "data": {
      "text/html": [
       "<div>\n",
       "<style scoped>\n",
       "    .dataframe tbody tr th:only-of-type {\n",
       "        vertical-align: middle;\n",
       "    }\n",
       "\n",
       "    .dataframe tbody tr th {\n",
       "        vertical-align: top;\n",
       "    }\n",
       "\n",
       "    .dataframe thead th {\n",
       "        text-align: right;\n",
       "    }\n",
       "</style>\n",
       "<table border=\"1\" class=\"dataframe\">\n",
       "  <thead>\n",
       "    <tr style=\"text-align: right;\">\n",
       "      <th></th>\n",
       "      <th>NU_NOTA_REDACAO</th>\n",
       "    </tr>\n",
       "    <tr>\n",
       "      <th>TP_SEXO</th>\n",
       "      <th></th>\n",
       "    </tr>\n",
       "  </thead>\n",
       "  <tbody>\n",
       "    <tr>\n",
       "      <th>F</th>\n",
       "      <td>577.159368</td>\n",
       "    </tr>\n",
       "    <tr>\n",
       "      <th>M</th>\n",
       "      <td>562.396035</td>\n",
       "    </tr>\n",
       "  </tbody>\n",
       "</table>\n",
       "</div>"
      ],
      "text/plain": [
       "         NU_NOTA_REDACAO\n",
       "TP_SEXO                 \n",
       "F             577.159368\n",
       "M             562.396035"
      ]
     },
     "execution_count": 29,
     "metadata": {},
     "output_type": "execute_result"
    }
   ],
   "source": [
    "enem_sexo_redacao.groupby('TP_SEXO').mean()"
   ]
  },
  {
   "cell_type": "code",
   "execution_count": 30,
   "id": "ecc87c5c-5cea-4f66-b6e0-07d58d766f32",
   "metadata": {},
   "outputs": [
    {
     "data": {
      "text/html": [
       "<div>\n",
       "<style scoped>\n",
       "    .dataframe tbody tr th:only-of-type {\n",
       "        vertical-align: middle;\n",
       "    }\n",
       "\n",
       "    .dataframe tbody tr th {\n",
       "        vertical-align: top;\n",
       "    }\n",
       "\n",
       "    .dataframe thead th {\n",
       "        text-align: right;\n",
       "    }\n",
       "</style>\n",
       "<table border=\"1\" class=\"dataframe\">\n",
       "  <thead>\n",
       "    <tr style=\"text-align: right;\">\n",
       "      <th></th>\n",
       "      <th>NU_NOTA_REDACAO</th>\n",
       "    </tr>\n",
       "    <tr>\n",
       "      <th>TP_SEXO</th>\n",
       "      <th></th>\n",
       "    </tr>\n",
       "  </thead>\n",
       "  <tbody>\n",
       "    <tr>\n",
       "      <th>F</th>\n",
       "      <td>580.0</td>\n",
       "    </tr>\n",
       "    <tr>\n",
       "      <th>M</th>\n",
       "      <td>580.0</td>\n",
       "    </tr>\n",
       "  </tbody>\n",
       "</table>\n",
       "</div>"
      ],
      "text/plain": [
       "         NU_NOTA_REDACAO\n",
       "TP_SEXO                 \n",
       "F                  580.0\n",
       "M                  580.0"
      ]
     },
     "execution_count": 30,
     "metadata": {},
     "output_type": "execute_result"
    }
   ],
   "source": [
    "enem_sexo_redacao.groupby('TP_SEXO').median()"
   ]
  },
  {
   "cell_type": "code",
   "execution_count": 31,
   "id": "21038af2-b9a4-4c0a-954a-a6d1ff6d41c1",
   "metadata": {},
   "outputs": [
    {
     "data": {
      "text/html": [
       "<div>\n",
       "<style scoped>\n",
       "    .dataframe tbody tr th:only-of-type {\n",
       "        vertical-align: middle;\n",
       "    }\n",
       "\n",
       "    .dataframe tbody tr th {\n",
       "        vertical-align: top;\n",
       "    }\n",
       "\n",
       "    .dataframe thead tr th {\n",
       "        text-align: left;\n",
       "    }\n",
       "\n",
       "    .dataframe thead tr:last-of-type th {\n",
       "        text-align: right;\n",
       "    }\n",
       "</style>\n",
       "<table border=\"1\" class=\"dataframe\">\n",
       "  <thead>\n",
       "    <tr>\n",
       "      <th></th>\n",
       "      <th colspan=\"8\" halign=\"left\">NU_NOTA_REDACAO</th>\n",
       "    </tr>\n",
       "    <tr>\n",
       "      <th></th>\n",
       "      <th>count</th>\n",
       "      <th>mean</th>\n",
       "      <th>std</th>\n",
       "      <th>min</th>\n",
       "      <th>25%</th>\n",
       "      <th>50%</th>\n",
       "      <th>75%</th>\n",
       "      <th>max</th>\n",
       "    </tr>\n",
       "    <tr>\n",
       "      <th>TP_SEXO</th>\n",
       "      <th></th>\n",
       "      <th></th>\n",
       "      <th></th>\n",
       "      <th></th>\n",
       "      <th></th>\n",
       "      <th></th>\n",
       "      <th></th>\n",
       "      <th></th>\n",
       "    </tr>\n",
       "  </thead>\n",
       "  <tbody>\n",
       "    <tr>\n",
       "      <th>F</th>\n",
       "      <td>2336431.0</td>\n",
       "      <td>577.159368</td>\n",
       "      <td>187.536483</td>\n",
       "      <td>0.0</td>\n",
       "      <td>480.0</td>\n",
       "      <td>580.0</td>\n",
       "      <td>680.0</td>\n",
       "      <td>1000.0</td>\n",
       "    </tr>\n",
       "    <tr>\n",
       "      <th>M</th>\n",
       "      <td>1586713.0</td>\n",
       "      <td>562.396035</td>\n",
       "      <td>190.214499</td>\n",
       "      <td>0.0</td>\n",
       "      <td>480.0</td>\n",
       "      <td>580.0</td>\n",
       "      <td>660.0</td>\n",
       "      <td>1000.0</td>\n",
       "    </tr>\n",
       "  </tbody>\n",
       "</table>\n",
       "</div>"
      ],
      "text/plain": [
       "        NU_NOTA_REDACAO                                                    \\\n",
       "                  count        mean         std  min    25%    50%    75%   \n",
       "TP_SEXO                                                                     \n",
       "F             2336431.0  577.159368  187.536483  0.0  480.0  580.0  680.0   \n",
       "M             1586713.0  562.396035  190.214499  0.0  480.0  580.0  660.0   \n",
       "\n",
       "                 \n",
       "            max  \n",
       "TP_SEXO          \n",
       "F        1000.0  \n",
       "M        1000.0  "
      ]
     },
     "execution_count": 31,
     "metadata": {},
     "output_type": "execute_result"
    }
   ],
   "source": [
    "enem_sexo_redacao.groupby('TP_SEXO').describe()"
   ]
  },
  {
   "cell_type": "code",
   "execution_count": 32,
   "id": "6fd958b2-a1ff-46ea-8d43-5b79878c2b02",
   "metadata": {},
   "outputs": [
    {
     "data": {
      "text/plain": [
       "TP_SEXO\n",
       "F    [[AxesSubplot(0.125,0.125;0.775x0.755)]]\n",
       "M    [[AxesSubplot(0.125,0.125;0.775x0.755)]]\n",
       "dtype: object"
      ]
     },
     "execution_count": 32,
     "metadata": {},
     "output_type": "execute_result"
    },
    {
     "data": {
      "image/png": "[encoded data removed]",
      "text/plain": [
       "<Figure size 432x288 with 1 Axes>"
      ]
     },
     "metadata": {
      "needs_background": "light"
     },
     "output_type": "display_data"
    },
    {
     "data": {
      "image/png": "[encoded data removed]",
      "text/plain": [
       "<Figure size 432x288 with 1 Axes>"
      ]
     },
     "metadata": {
      "needs_background": "light"
     },
     "output_type": "display_data"
    }
   ],
   "source": [
    "enem_sexo_redacao.groupby('TP_SEXO').hist(bins=30)"
   ]
  },
  {
   "cell_type": "code",
   "execution_count": 33,
   "id": "357da1ab-7418-4d2c-99f2-d59d4890c2a7",
   "metadata": {},
   "outputs": [],
   "source": [
    "colunas_selecionadas = ['NU_INSCRICAO', 'NU_NOTA_MT', 'NU_NOTA_REDACAO', 'Q001', 'Q002']"
   ]
  },
  {
   "cell_type": "code",
   "execution_count": 34,
   "id": "7f52c1a7-349d-4a94-b37a-4f2ba9742d24",
   "metadata": {},
   "outputs": [],
   "source": [
    "enem_nota_parentes = enem.filter(items=colunas_selecionadas)"
   ]
  },
  {
   "cell_type": "code",
   "execution_count": 35,
   "id": "8b94a099-2365-4aa8-b31b-d25c50100e52",
   "metadata": {},
   "outputs": [
    {
     "data": {
      "text/html": [
       "<div>\n",
       "<style scoped>\n",
       "    .dataframe tbody tr th:only-of-type {\n",
       "        vertical-align: middle;\n",
       "    }\n",
       "\n",
       "    .dataframe tbody tr th {\n",
       "        vertical-align: top;\n",
       "    }\n",
       "\n",
       "    .dataframe thead th {\n",
       "        text-align: right;\n",
       "    }\n",
       "</style>\n",
       "<table border=\"1\" class=\"dataframe\">\n",
       "  <thead>\n",
       "    <tr style=\"text-align: right;\">\n",
       "      <th></th>\n",
       "      <th>NU_INSCRICAO</th>\n",
       "      <th>NU_NOTA_REDACAO</th>\n",
       "      <th>Q001</th>\n",
       "      <th>Q002</th>\n",
       "    </tr>\n",
       "  </thead>\n",
       "  <tbody>\n",
       "    <tr>\n",
       "      <th>0</th>\n",
       "      <td>190001004627</td>\n",
       "      <td>780.0</td>\n",
       "      <td>D</td>\n",
       "      <td>E</td>\n",
       "    </tr>\n",
       "    <tr>\n",
       "      <th>1</th>\n",
       "      <td>190001004628</td>\n",
       "      <td>600.0</td>\n",
       "      <td>D</td>\n",
       "      <td>E</td>\n",
       "    </tr>\n",
       "    <tr>\n",
       "      <th>2</th>\n",
       "      <td>190001004629</td>\n",
       "      <td>640.0</td>\n",
       "      <td>H</td>\n",
       "      <td>E</td>\n",
       "    </tr>\n",
       "    <tr>\n",
       "      <th>3</th>\n",
       "      <td>190001004630</td>\n",
       "      <td>NaN</td>\n",
       "      <td>D</td>\n",
       "      <td>D</td>\n",
       "    </tr>\n",
       "    <tr>\n",
       "      <th>4</th>\n",
       "      <td>190001004631</td>\n",
       "      <td>NaN</td>\n",
       "      <td>B</td>\n",
       "      <td>C</td>\n",
       "    </tr>\n",
       "  </tbody>\n",
       "</table>\n",
       "</div>"
      ],
      "text/plain": [
       "   NU_INSCRICAO  NU_NOTA_REDACAO Q001 Q002\n",
       "0  190001004627            780.0    D    E\n",
       "1  190001004628            600.0    D    E\n",
       "2  190001004629            640.0    H    E\n",
       "3  190001004630              NaN    D    D\n",
       "4  190001004631              NaN    B    C"
      ]
     },
     "execution_count": 35,
     "metadata": {},
     "output_type": "execute_result"
    }
   ],
   "source": [
    "enem_nota_parentes.head()"
   ]
  },
  {
   "cell_type": "code",
   "execution_count": 36,
   "id": "6a86dc2b-d4f4-434d-9546-e93e8daab0b6",
   "metadata": {},
   "outputs": [],
   "source": [
    "enem_nota_parentes = enem_nota_parentes.dropna()"
   ]
  },
  {
   "cell_type": "code",
   "execution_count": 37,
   "id": "8b1b5789-ba96-4593-90ae-8b8a614c9737",
   "metadata": {},
   "outputs": [
    {
     "data": {
      "text/html": [
       "<div>\n",
       "<style scoped>\n",
       "    .dataframe tbody tr th:only-of-type {\n",
       "        vertical-align: middle;\n",
       "    }\n",
       "\n",
       "    .dataframe tbody tr th {\n",
       "        vertical-align: top;\n",
       "    }\n",
       "\n",
       "    .dataframe thead th {\n",
       "        text-align: right;\n",
       "    }\n",
       "</style>\n",
       "<table border=\"1\" class=\"dataframe\">\n",
       "  <thead>\n",
       "    <tr style=\"text-align: right;\">\n",
       "      <th></th>\n",
       "      <th>NU_INSCRICAO</th>\n",
       "      <th>NU_NOTA_REDACAO</th>\n",
       "      <th>Q001</th>\n",
       "      <th>Q002</th>\n",
       "    </tr>\n",
       "  </thead>\n",
       "  <tbody>\n",
       "    <tr>\n",
       "      <th>0</th>\n",
       "      <td>190001004627</td>\n",
       "      <td>780.0</td>\n",
       "      <td>D</td>\n",
       "      <td>E</td>\n",
       "    </tr>\n",
       "    <tr>\n",
       "      <th>1</th>\n",
       "      <td>190001004628</td>\n",
       "      <td>600.0</td>\n",
       "      <td>D</td>\n",
       "      <td>E</td>\n",
       "    </tr>\n",
       "    <tr>\n",
       "      <th>2</th>\n",
       "      <td>190001004629</td>\n",
       "      <td>640.0</td>\n",
       "      <td>H</td>\n",
       "      <td>E</td>\n",
       "    </tr>\n",
       "    <tr>\n",
       "      <th>5</th>\n",
       "      <td>190001004632</td>\n",
       "      <td>580.0</td>\n",
       "      <td>C</td>\n",
       "      <td>C</td>\n",
       "    </tr>\n",
       "    <tr>\n",
       "      <th>6</th>\n",
       "      <td>190001004633</td>\n",
       "      <td>360.0</td>\n",
       "      <td>B</td>\n",
       "      <td>B</td>\n",
       "    </tr>\n",
       "  </tbody>\n",
       "</table>\n",
       "</div>"
      ],
      "text/plain": [
       "   NU_INSCRICAO  NU_NOTA_REDACAO Q001 Q002\n",
       "0  190001004627            780.0    D    E\n",
       "1  190001004628            600.0    D    E\n",
       "2  190001004629            640.0    H    E\n",
       "5  190001004632            580.0    C    C\n",
       "6  190001004633            360.0    B    B"
      ]
     },
     "execution_count": 37,
     "metadata": {},
     "output_type": "execute_result"
    }
   ],
   "source": [
    "enem_nota_parentes.head()"
   ]
  },
  {
   "cell_type": "markdown",
   "id": "6041eafa-38c3-41b8-8abd-9444cedd890d",
   "metadata": {},
   "source": [
    "# Questionário dos indicadores socioeconômicos\n",
    "+ Q001 - Até que série seu pai estudou?\n",
    "+ Q002 - Até que série sua mãe estudou?"
   ]
  },
  {
   "cell_type": "code",
   "execution_count": 38,
   "id": "c6199ab1-d925-4d8b-808f-3bf1e0a7b5fd",
   "metadata": {},
   "outputs": [],
   "source": [
    "dicionario_q001_q002 = {'A':'Nunca estudou',\n",
    "'B':'Não completou a 4ª série/5º ano do Ensino Fundamental',\n",
    "'C':'Completou a 4ª série/5º ano, mas não completou a 8ª série/9º ano do Ensino Fundamental',\n",
    "'D':'Completou a 8ª série/9º ano do Ensino Fundamental, mas não completou o Ensino Médio',\n",
    "'E':'Completou o Ensino Médio, mas não completou a Faculdade',\n",
    "'F':'Completou a Faculdade, mas não completou a Pós-graduação',\n",
    "'G':'Completou a Pós-graduação',\n",
    "'H':'Não sei'}"
   ]
  },
  {
   "cell_type": "markdown",
   "id": "b9318b48-823d-44e9-b81a-06d928713f99",
   "metadata": {},
   "source": [
    "## Criar novas colunas no DataFrame\n",
    "+ Inserindo coluna NO_Q001"
   ]
  },
  {
   "cell_type": "code",
   "execution_count": 39,
   "id": "47925bbd-40ca-4491-8bd5-fd64e4d508a4",
   "metadata": {},
   "outputs": [
    {
     "data": {
      "text/html": [
       "<div>\n",
       "<style scoped>\n",
       "    .dataframe tbody tr th:only-of-type {\n",
       "        vertical-align: middle;\n",
       "    }\n",
       "\n",
       "    .dataframe tbody tr th {\n",
       "        vertical-align: top;\n",
       "    }\n",
       "\n",
       "    .dataframe thead th {\n",
       "        text-align: right;\n",
       "    }\n",
       "</style>\n",
       "<table border=\"1\" class=\"dataframe\">\n",
       "  <thead>\n",
       "    <tr style=\"text-align: right;\">\n",
       "      <th></th>\n",
       "      <th>NU_INSCRICAO</th>\n",
       "    </tr>\n",
       "    <tr>\n",
       "      <th>Q001</th>\n",
       "      <th></th>\n",
       "    </tr>\n",
       "  </thead>\n",
       "  <tbody>\n",
       "    <tr>\n",
       "      <th>A</th>\n",
       "      <td>200331</td>\n",
       "    </tr>\n",
       "    <tr>\n",
       "      <th>B</th>\n",
       "      <td>805643</td>\n",
       "    </tr>\n",
       "    <tr>\n",
       "      <th>C</th>\n",
       "      <td>548748</td>\n",
       "    </tr>\n",
       "    <tr>\n",
       "      <th>D</th>\n",
       "      <td>459610</td>\n",
       "    </tr>\n",
       "    <tr>\n",
       "      <th>E</th>\n",
       "      <td>1058282</td>\n",
       "    </tr>\n",
       "    <tr>\n",
       "      <th>F</th>\n",
       "      <td>320457</td>\n",
       "    </tr>\n",
       "    <tr>\n",
       "      <th>G</th>\n",
       "      <td>200793</td>\n",
       "    </tr>\n",
       "    <tr>\n",
       "      <th>H</th>\n",
       "      <td>329280</td>\n",
       "    </tr>\n",
       "  </tbody>\n",
       "</table>\n",
       "</div>"
      ],
      "text/plain": [
       "      NU_INSCRICAO\n",
       "Q001              \n",
       "A           200331\n",
       "B           805643\n",
       "C           548748\n",
       "D           459610\n",
       "E          1058282\n",
       "F           320457\n",
       "G           200793\n",
       "H           329280"
      ]
     },
     "execution_count": 39,
     "metadata": {},
     "output_type": "execute_result"
    }
   ],
   "source": [
    "# contagem\n",
    "enem_nota_parentes.filter(items=['Q001', 'NU_INSCRICAO']).groupby('Q001').count()"
   ]
  },
  {
   "cell_type": "code",
   "execution_count": 40,
   "id": "28904ae1-04db-4bc3-9e20-2073b2a846e1",
   "metadata": {},
   "outputs": [],
   "source": [
    "# Criar coluna NO_Q001\n",
    "enem_nota_parentes['NO_Q001'] = [dicionario_q001_q002[resp] for resp in enem_nota_parentes.Q001]"
   ]
  },
  {
   "cell_type": "code",
   "execution_count": 41,
   "id": "99fdd098-17a1-471d-ac59-88e5dc5b3466",
   "metadata": {},
   "outputs": [],
   "source": [
    "# Criar coluna NO_Q002\n",
    "enem_nota_parentes['NO_Q002'] = [dicionario_q001_q002[resp] for resp in enem_nota_parentes.Q002]"
   ]
  },
  {
   "cell_type": "code",
   "execution_count": 42,
   "id": "e0ed25d8-cb05-40a2-b169-41321422911d",
   "metadata": {},
   "outputs": [
    {
     "data": {
      "text/html": [
       "<div>\n",
       "<style scoped>\n",
       "    .dataframe tbody tr th:only-of-type {\n",
       "        vertical-align: middle;\n",
       "    }\n",
       "\n",
       "    .dataframe tbody tr th {\n",
       "        vertical-align: top;\n",
       "    }\n",
       "\n",
       "    .dataframe thead th {\n",
       "        text-align: right;\n",
       "    }\n",
       "</style>\n",
       "<table border=\"1\" class=\"dataframe\">\n",
       "  <thead>\n",
       "    <tr style=\"text-align: right;\">\n",
       "      <th></th>\n",
       "      <th>NU_INSCRICAO</th>\n",
       "      <th>NU_NOTA_REDACAO</th>\n",
       "      <th>Q001</th>\n",
       "      <th>Q002</th>\n",
       "      <th>NO_Q001</th>\n",
       "      <th>NO_Q002</th>\n",
       "    </tr>\n",
       "  </thead>\n",
       "  <tbody>\n",
       "    <tr>\n",
       "      <th>0</th>\n",
       "      <td>190001004627</td>\n",
       "      <td>780.0</td>\n",
       "      <td>D</td>\n",
       "      <td>E</td>\n",
       "      <td>Completou a 8ª série/9º ano do Ensino Fundamen...</td>\n",
       "      <td>Completou o Ensino Médio, mas não completou a ...</td>\n",
       "    </tr>\n",
       "    <tr>\n",
       "      <th>1</th>\n",
       "      <td>190001004628</td>\n",
       "      <td>600.0</td>\n",
       "      <td>D</td>\n",
       "      <td>E</td>\n",
       "      <td>Completou a 8ª série/9º ano do Ensino Fundamen...</td>\n",
       "      <td>Completou o Ensino Médio, mas não completou a ...</td>\n",
       "    </tr>\n",
       "    <tr>\n",
       "      <th>2</th>\n",
       "      <td>190001004629</td>\n",
       "      <td>640.0</td>\n",
       "      <td>H</td>\n",
       "      <td>E</td>\n",
       "      <td>Não sei</td>\n",
       "      <td>Completou o Ensino Médio, mas não completou a ...</td>\n",
       "    </tr>\n",
       "    <tr>\n",
       "      <th>5</th>\n",
       "      <td>190001004632</td>\n",
       "      <td>580.0</td>\n",
       "      <td>C</td>\n",
       "      <td>C</td>\n",
       "      <td>Completou a 4ª série/5º ano, mas não completou...</td>\n",
       "      <td>Completou a 4ª série/5º ano, mas não completou...</td>\n",
       "    </tr>\n",
       "    <tr>\n",
       "      <th>6</th>\n",
       "      <td>190001004633</td>\n",
       "      <td>360.0</td>\n",
       "      <td>B</td>\n",
       "      <td>B</td>\n",
       "      <td>Não completou a 4ª série/5º ano do Ensino Fund...</td>\n",
       "      <td>Não completou a 4ª série/5º ano do Ensino Fund...</td>\n",
       "    </tr>\n",
       "  </tbody>\n",
       "</table>\n",
       "</div>"
      ],
      "text/plain": [
       "   NU_INSCRICAO  NU_NOTA_REDACAO Q001 Q002  \\\n",
       "0  190001004627            780.0    D    E   \n",
       "1  190001004628            600.0    D    E   \n",
       "2  190001004629            640.0    H    E   \n",
       "5  190001004632            580.0    C    C   \n",
       "6  190001004633            360.0    B    B   \n",
       "\n",
       "                                             NO_Q001  \\\n",
       "0  Completou a 8ª série/9º ano do Ensino Fundamen...   \n",
       "1  Completou a 8ª série/9º ano do Ensino Fundamen...   \n",
       "2                                            Não sei   \n",
       "5  Completou a 4ª série/5º ano, mas não completou...   \n",
       "6  Não completou a 4ª série/5º ano do Ensino Fund...   \n",
       "\n",
       "                                             NO_Q002  \n",
       "0  Completou o Ensino Médio, mas não completou a ...  \n",
       "1  Completou o Ensino Médio, mas não completou a ...  \n",
       "2  Completou o Ensino Médio, mas não completou a ...  \n",
       "5  Completou a 4ª série/5º ano, mas não completou...  \n",
       "6  Não completou a 4ª série/5º ano do Ensino Fund...  "
      ]
     },
     "execution_count": 42,
     "metadata": {},
     "output_type": "execute_result"
    }
   ],
   "source": [
    "enem_nota_parentes.head()"
   ]
  },
  {
   "cell_type": "markdown",
   "id": "d1d92103-53b2-4cd6-9e61-5dab19c813b9",
   "metadata": {},
   "source": [
    "### Relacionando número de inscritos com escolaridade dos pais"
   ]
  },
  {
   "cell_type": "code",
   "execution_count": 43,
   "id": "32c15c02-c2e9-4fd0-8491-aca2c8459f0b",
   "metadata": {},
   "outputs": [
    {
     "data": {
      "text/html": [
       "<div>\n",
       "<style scoped>\n",
       "    .dataframe tbody tr th:only-of-type {\n",
       "        vertical-align: middle;\n",
       "    }\n",
       "\n",
       "    .dataframe tbody tr th {\n",
       "        vertical-align: top;\n",
       "    }\n",
       "\n",
       "    .dataframe thead th {\n",
       "        text-align: right;\n",
       "    }\n",
       "</style>\n",
       "<table border=\"1\" class=\"dataframe\">\n",
       "  <thead>\n",
       "    <tr style=\"text-align: right;\">\n",
       "      <th></th>\n",
       "      <th>NU_INSCRICAO</th>\n",
       "    </tr>\n",
       "    <tr>\n",
       "      <th>NO_Q001</th>\n",
       "      <th></th>\n",
       "    </tr>\n",
       "  </thead>\n",
       "  <tbody>\n",
       "    <tr>\n",
       "      <th>Nunca estudou</th>\n",
       "      <td>200331</td>\n",
       "    </tr>\n",
       "    <tr>\n",
       "      <th>Completou a Pós-graduação</th>\n",
       "      <td>200793</td>\n",
       "    </tr>\n",
       "    <tr>\n",
       "      <th>Completou a Faculdade, mas não completou a Pós-graduação</th>\n",
       "      <td>320457</td>\n",
       "    </tr>\n",
       "    <tr>\n",
       "      <th>Não sei</th>\n",
       "      <td>329280</td>\n",
       "    </tr>\n",
       "    <tr>\n",
       "      <th>Completou a 8ª série/9º ano do Ensino Fundamental, mas não completou o Ensino Médio</th>\n",
       "      <td>459610</td>\n",
       "    </tr>\n",
       "    <tr>\n",
       "      <th>Completou a 4ª série/5º ano, mas não completou a 8ª série/9º ano do Ensino Fundamental</th>\n",
       "      <td>548748</td>\n",
       "    </tr>\n",
       "    <tr>\n",
       "      <th>Não completou a 4ª série/5º ano do Ensino Fundamental</th>\n",
       "      <td>805643</td>\n",
       "    </tr>\n",
       "    <tr>\n",
       "      <th>Completou o Ensino Médio, mas não completou a Faculdade</th>\n",
       "      <td>1058282</td>\n",
       "    </tr>\n",
       "  </tbody>\n",
       "</table>\n",
       "</div>"
      ],
      "text/plain": [
       "                                                    NU_INSCRICAO\n",
       "NO_Q001                                                         \n",
       "Nunca estudou                                             200331\n",
       "Completou a Pós-graduação                                 200793\n",
       "Completou a Faculdade, mas não completou a Pós-...        320457\n",
       "Não sei                                                   329280\n",
       "Completou a 8ª série/9º ano do Ensino Fundament...        459610\n",
       "Completou a 4ª série/5º ano, mas não completou ...        548748\n",
       "Não completou a 4ª série/5º ano do Ensino Funda...        805643\n",
       "Completou o Ensino Médio, mas não completou a F...       1058282"
      ]
     },
     "execution_count": 43,
     "metadata": {},
     "output_type": "execute_result"
    }
   ],
   "source": [
    "# Pai\n",
    "enem_nota_parentes.filter(items=['NU_INSCRICAO','NO_Q001']).groupby('NO_Q001').count().sort_values(by=('NU_INSCRICAO'))"
   ]
  },
  {
   "cell_type": "code",
   "execution_count": 44,
   "id": "b364e06e-7a72-4587-9623-7c67386d57e7",
   "metadata": {},
   "outputs": [
    {
     "data": {
      "text/html": [
       "<div>\n",
       "<style scoped>\n",
       "    .dataframe tbody tr th:only-of-type {\n",
       "        vertical-align: middle;\n",
       "    }\n",
       "\n",
       "    .dataframe tbody tr th {\n",
       "        vertical-align: top;\n",
       "    }\n",
       "\n",
       "    .dataframe thead th {\n",
       "        text-align: right;\n",
       "    }\n",
       "</style>\n",
       "<table border=\"1\" class=\"dataframe\">\n",
       "  <thead>\n",
       "    <tr style=\"text-align: right;\">\n",
       "      <th></th>\n",
       "      <th>NU_INSCRICAO</th>\n",
       "    </tr>\n",
       "    <tr>\n",
       "      <th>NO_Q002</th>\n",
       "      <th></th>\n",
       "    </tr>\n",
       "  </thead>\n",
       "  <tbody>\n",
       "    <tr>\n",
       "      <th>Não sei</th>\n",
       "      <td>105325</td>\n",
       "    </tr>\n",
       "    <tr>\n",
       "      <th>Nunca estudou</th>\n",
       "      <td>130880</td>\n",
       "    </tr>\n",
       "    <tr>\n",
       "      <th>Completou a Pós-graduação</th>\n",
       "      <td>345941</td>\n",
       "    </tr>\n",
       "    <tr>\n",
       "      <th>Completou a Faculdade, mas não completou a Pós-graduação</th>\n",
       "      <td>433935</td>\n",
       "    </tr>\n",
       "    <tr>\n",
       "      <th>Completou a 4ª série/5º ano, mas não completou a 8ª série/9º ano do Ensino Fundamental</th>\n",
       "      <td>503999</td>\n",
       "    </tr>\n",
       "    <tr>\n",
       "      <th>Completou a 8ª série/9º ano do Ensino Fundamental, mas não completou o Ensino Médio</th>\n",
       "      <td>507256</td>\n",
       "    </tr>\n",
       "    <tr>\n",
       "      <th>Não completou a 4ª série/5º ano do Ensino Fundamental</th>\n",
       "      <td>592468</td>\n",
       "    </tr>\n",
       "    <tr>\n",
       "      <th>Completou o Ensino Médio, mas não completou a Faculdade</th>\n",
       "      <td>1303340</td>\n",
       "    </tr>\n",
       "  </tbody>\n",
       "</table>\n",
       "</div>"
      ],
      "text/plain": [
       "                                                    NU_INSCRICAO\n",
       "NO_Q002                                                         \n",
       "Não sei                                                   105325\n",
       "Nunca estudou                                             130880\n",
       "Completou a Pós-graduação                                 345941\n",
       "Completou a Faculdade, mas não completou a Pós-...        433935\n",
       "Completou a 4ª série/5º ano, mas não completou ...        503999\n",
       "Completou a 8ª série/9º ano do Ensino Fundament...        507256\n",
       "Não completou a 4ª série/5º ano do Ensino Funda...        592468\n",
       "Completou o Ensino Médio, mas não completou a F...       1303340"
      ]
     },
     "execution_count": 44,
     "metadata": {},
     "output_type": "execute_result"
    }
   ],
   "source": [
    "# Mãe\n",
    "enem_nota_parentes.filter(items=['NU_INSCRICAO','NO_Q002']).groupby('NO_Q002').count().sort_values(by='NU_INSCRICAO', ascending=True)"
   ]
  },
  {
   "cell_type": "code",
   "execution_count": 45,
   "id": "a752fa49-9e48-4843-8213-cfc914859a40",
   "metadata": {},
   "outputs": [],
   "source": [
    "mae = enem_nota_parentes.filter(items=['NU_INSCRICAO','NO_Q002']).groupby('NO_Q002').count()"
   ]
  },
  {
   "cell_type": "code",
   "execution_count": 46,
   "id": "695200e9-c777-4698-a0f2-ad987d48813c",
   "metadata": {},
   "outputs": [
    {
     "data": {
      "text/plain": [
       "<AxesSubplot:xlabel='NO_Q002'>"
      ]
     },
     "execution_count": 46,
     "metadata": {},
     "output_type": "execute_result"
    },
    {
     "data": {
      "image/png": "[encoded data removed]",
      "text/plain": [
       "<Figure size 432x288 with 1 Axes>"
      ]
     },
     "metadata": {
      "needs_background": "light"
     },
     "output_type": "display_data"
    }
   ],
   "source": [
    "mae.plot()"
   ]
  },
  {
   "cell_type": "markdown",
   "id": "79a08632-0c96-4e44-9aaf-d6e6cfdce435",
   "metadata": {},
   "source": [
    "### Englobando município e estado de residencia"
   ]
  },
  {
   "cell_type": "code",
   "execution_count": 48,
   "id": "3cdfc611-9813-430b-800e-32baa5ac49b1",
   "metadata": {},
   "outputs": [],
   "source": [
    "colunas_selec = ['NU_INSCRICAO', 'SG_UF_RESIDENCIA', 'NU_NOTA_MT', 'NU_NOTA_REDACAO', 'Q001', 'Q002']"
   ]
  },
  {
   "cell_type": "code",
   "execution_count": 51,
   "id": "722cab17-bd95-438a-9833-854d8f323e27",
   "metadata": {},
   "outputs": [],
   "source": [
    "enem_uf = enem.filter(items=colunas_selec)"
   ]
  },
  {
   "cell_type": "code",
   "execution_count": 52,
   "id": "25371530-ce75-4468-b7ff-2830e49c0f01",
   "metadata": {},
   "outputs": [
    {
     "data": {
      "text/html": [
       "<div>\n",
       "<style scoped>\n",
       "    .dataframe tbody tr th:only-of-type {\n",
       "        vertical-align: middle;\n",
       "    }\n",
       "\n",
       "    .dataframe tbody tr th {\n",
       "        vertical-align: top;\n",
       "    }\n",
       "\n",
       "    .dataframe thead th {\n",
       "        text-align: right;\n",
       "    }\n",
       "</style>\n",
       "<table border=\"1\" class=\"dataframe\">\n",
       "  <thead>\n",
       "    <tr style=\"text-align: right;\">\n",
       "      <th></th>\n",
       "      <th>NU_INSCRICAO</th>\n",
       "      <th>SG_UF_RESIDENCIA</th>\n",
       "      <th>NU_NOTA_REDACAO</th>\n",
       "      <th>Q001</th>\n",
       "      <th>Q002</th>\n",
       "    </tr>\n",
       "  </thead>\n",
       "  <tbody>\n",
       "    <tr>\n",
       "      <th>0</th>\n",
       "      <td>190001004627</td>\n",
       "      <td>PA</td>\n",
       "      <td>780.0</td>\n",
       "      <td>D</td>\n",
       "      <td>E</td>\n",
       "    </tr>\n",
       "    <tr>\n",
       "      <th>1</th>\n",
       "      <td>190001004628</td>\n",
       "      <td>PA</td>\n",
       "      <td>600.0</td>\n",
       "      <td>D</td>\n",
       "      <td>E</td>\n",
       "    </tr>\n",
       "    <tr>\n",
       "      <th>2</th>\n",
       "      <td>190001004629</td>\n",
       "      <td>PA</td>\n",
       "      <td>640.0</td>\n",
       "      <td>H</td>\n",
       "      <td>E</td>\n",
       "    </tr>\n",
       "  </tbody>\n",
       "</table>\n",
       "</div>"
      ],
      "text/plain": [
       "   NU_INSCRICAO SG_UF_RESIDENCIA  NU_NOTA_REDACAO Q001 Q002\n",
       "0  190001004627               PA            780.0    D    E\n",
       "1  190001004628               PA            600.0    D    E\n",
       "2  190001004629               PA            640.0    H    E"
      ]
     },
     "execution_count": 52,
     "metadata": {},
     "output_type": "execute_result"
    }
   ],
   "source": [
    "enem_uf.head(3)"
   ]
  },
  {
   "cell_type": "code",
   "execution_count": 56,
   "id": "80405641-9bb8-4b56-a5c3-faa69b82404f",
   "metadata": {},
   "outputs": [],
   "source": [
    "enem_uf['NO_Q001'] = [dicionario_q001_q002[resp] for resp in enem_uf['Q001']]\n",
    "enem_uf['NO_Q002'] = [dicionario_q001_q002[resp] for resp in enem_uf.Q002]"
   ]
  },
  {
   "cell_type": "code",
   "execution_count": 57,
   "id": "ed3593e8-6376-4f83-b668-7a31409c615d",
   "metadata": {},
   "outputs": [
    {
     "data": {
      "text/html": [
       "<div>\n",
       "<style scoped>\n",
       "    .dataframe tbody tr th:only-of-type {\n",
       "        vertical-align: middle;\n",
       "    }\n",
       "\n",
       "    .dataframe tbody tr th {\n",
       "        vertical-align: top;\n",
       "    }\n",
       "\n",
       "    .dataframe thead th {\n",
       "        text-align: right;\n",
       "    }\n",
       "</style>\n",
       "<table border=\"1\" class=\"dataframe\">\n",
       "  <thead>\n",
       "    <tr style=\"text-align: right;\">\n",
       "      <th></th>\n",
       "      <th>NU_INSCRICAO</th>\n",
       "      <th>SG_UF_RESIDENCIA</th>\n",
       "      <th>NU_NOTA_REDACAO</th>\n",
       "      <th>Q001</th>\n",
       "      <th>Q002</th>\n",
       "      <th>NO_Q001</th>\n",
       "      <th>NO_Q002</th>\n",
       "    </tr>\n",
       "  </thead>\n",
       "  <tbody>\n",
       "    <tr>\n",
       "      <th>0</th>\n",
       "      <td>190001004627</td>\n",
       "      <td>PA</td>\n",
       "      <td>780.0</td>\n",
       "      <td>D</td>\n",
       "      <td>E</td>\n",
       "      <td>Completou a 8ª série/9º ano do Ensino Fundamen...</td>\n",
       "      <td>Completou o Ensino Médio, mas não completou a ...</td>\n",
       "    </tr>\n",
       "    <tr>\n",
       "      <th>1</th>\n",
       "      <td>190001004628</td>\n",
       "      <td>PA</td>\n",
       "      <td>600.0</td>\n",
       "      <td>D</td>\n",
       "      <td>E</td>\n",
       "      <td>Completou a 8ª série/9º ano do Ensino Fundamen...</td>\n",
       "      <td>Completou o Ensino Médio, mas não completou a ...</td>\n",
       "    </tr>\n",
       "    <tr>\n",
       "      <th>2</th>\n",
       "      <td>190001004629</td>\n",
       "      <td>PA</td>\n",
       "      <td>640.0</td>\n",
       "      <td>H</td>\n",
       "      <td>E</td>\n",
       "      <td>Não sei</td>\n",
       "      <td>Completou o Ensino Médio, mas não completou a ...</td>\n",
       "    </tr>\n",
       "    <tr>\n",
       "      <th>3</th>\n",
       "      <td>190001004630</td>\n",
       "      <td>PA</td>\n",
       "      <td>NaN</td>\n",
       "      <td>D</td>\n",
       "      <td>D</td>\n",
       "      <td>Completou a 8ª série/9º ano do Ensino Fundamen...</td>\n",
       "      <td>Completou a 8ª série/9º ano do Ensino Fundamen...</td>\n",
       "    </tr>\n",
       "    <tr>\n",
       "      <th>4</th>\n",
       "      <td>190001004631</td>\n",
       "      <td>PA</td>\n",
       "      <td>NaN</td>\n",
       "      <td>B</td>\n",
       "      <td>C</td>\n",
       "      <td>Não completou a 4ª série/5º ano do Ensino Fund...</td>\n",
       "      <td>Completou a 4ª série/5º ano, mas não completou...</td>\n",
       "    </tr>\n",
       "  </tbody>\n",
       "</table>\n",
       "</div>"
      ],
      "text/plain": [
       "   NU_INSCRICAO SG_UF_RESIDENCIA  NU_NOTA_REDACAO Q001 Q002  \\\n",
       "0  190001004627               PA            780.0    D    E   \n",
       "1  190001004628               PA            600.0    D    E   \n",
       "2  190001004629               PA            640.0    H    E   \n",
       "3  190001004630               PA              NaN    D    D   \n",
       "4  190001004631               PA              NaN    B    C   \n",
       "\n",
       "                                             NO_Q001  \\\n",
       "0  Completou a 8ª série/9º ano do Ensino Fundamen...   \n",
       "1  Completou a 8ª série/9º ano do Ensino Fundamen...   \n",
       "2                                            Não sei   \n",
       "3  Completou a 8ª série/9º ano do Ensino Fundamen...   \n",
       "4  Não completou a 4ª série/5º ano do Ensino Fund...   \n",
       "\n",
       "                                             NO_Q002  \n",
       "0  Completou o Ensino Médio, mas não completou a ...  \n",
       "1  Completou o Ensino Médio, mas não completou a ...  \n",
       "2  Completou o Ensino Médio, mas não completou a ...  \n",
       "3  Completou a 8ª série/9º ano do Ensino Fundamen...  \n",
       "4  Completou a 4ª série/5º ano, mas não completou...  "
      ]
     },
     "execution_count": 57,
     "metadata": {},
     "output_type": "execute_result"
    }
   ],
   "source": [
    "enem_uf.head()"
   ]
  },
  {
   "cell_type": "code",
   "execution_count": 58,
   "id": "52c25bd5-51c8-4b00-b851-93309155478d",
   "metadata": {},
   "outputs": [
    {
     "data": {
      "text/html": [
       "<div>\n",
       "<style scoped>\n",
       "    .dataframe tbody tr th:only-of-type {\n",
       "        vertical-align: middle;\n",
       "    }\n",
       "\n",
       "    .dataframe tbody tr th {\n",
       "        vertical-align: top;\n",
       "    }\n",
       "\n",
       "    .dataframe thead th {\n",
       "        text-align: right;\n",
       "    }\n",
       "</style>\n",
       "<table border=\"1\" class=\"dataframe\">\n",
       "  <thead>\n",
       "    <tr style=\"text-align: right;\">\n",
       "      <th></th>\n",
       "      <th>NU_NOTA_REDACAO</th>\n",
       "    </tr>\n",
       "    <tr>\n",
       "      <th>NO_Q001</th>\n",
       "      <th></th>\n",
       "    </tr>\n",
       "  </thead>\n",
       "  <tbody>\n",
       "    <tr>\n",
       "      <th>Completou a Pós-graduação</th>\n",
       "      <td>708.929293</td>\n",
       "    </tr>\n",
       "    <tr>\n",
       "      <th>Completou a Faculdade, mas não completou a Pós-graduação</th>\n",
       "      <td>686.551446</td>\n",
       "    </tr>\n",
       "    <tr>\n",
       "      <th>Completou o Ensino Médio, mas não completou a Faculdade</th>\n",
       "      <td>615.137559</td>\n",
       "    </tr>\n",
       "    <tr>\n",
       "      <th>Completou a 8ª série/9º ano do Ensino Fundamental, mas não completou o Ensino Médio</th>\n",
       "      <td>580.160958</td>\n",
       "    </tr>\n",
       "    <tr>\n",
       "      <th>Completou a 4ª série/5º ano, mas não completou a 8ª série/9º ano do Ensino Fundamental</th>\n",
       "      <td>560.131365</td>\n",
       "    </tr>\n",
       "    <tr>\n",
       "      <th>Não sei</th>\n",
       "      <td>544.982436</td>\n",
       "    </tr>\n",
       "    <tr>\n",
       "      <th>Não completou a 4ª série/5º ano do Ensino Fundamental</th>\n",
       "      <td>539.763975</td>\n",
       "    </tr>\n",
       "    <tr>\n",
       "      <th>Nunca estudou</th>\n",
       "      <td>511.347137</td>\n",
       "    </tr>\n",
       "  </tbody>\n",
       "</table>\n",
       "</div>"
      ],
      "text/plain": [
       "                                                    NU_NOTA_REDACAO\n",
       "NO_Q001                                                            \n",
       "Completou a Pós-graduação                                708.929293\n",
       "Completou a Faculdade, mas não completou a Pós-...       686.551446\n",
       "Completou o Ensino Médio, mas não completou a F...       615.137559\n",
       "Completou a 8ª série/9º ano do Ensino Fundament...       580.160958\n",
       "Completou a 4ª série/5º ano, mas não completou ...       560.131365\n",
       "Não sei                                                  544.982436\n",
       "Não completou a 4ª série/5º ano do Ensino Funda...       539.763975\n",
       "Nunca estudou                                            511.347137"
      ]
     },
     "execution_count": 58,
     "metadata": {},
     "output_type": "execute_result"
    }
   ],
   "source": [
    "enem_uf.filter(items=['NU_NOTA_REDACAO', 'NO_Q001']).where(enem_uf.SG_UF_RESIDENCIA == 'RN')\\\n",
    "                                                    .groupby('NO_Q001')\\\n",
    "                                                    .mean().sort_values(by='NU_NOTA_REDACAO', ascending=False)"
   ]
  },
  {
   "cell_type": "code",
   "execution_count": 59,
   "id": "c0a4cec2-69d3-4070-8098-159dbf1c5f1e",
   "metadata": {},
   "outputs": [
    {
     "data": {
      "text/html": [
       "<div>\n",
       "<style scoped>\n",
       "    .dataframe tbody tr th:only-of-type {\n",
       "        vertical-align: middle;\n",
       "    }\n",
       "\n",
       "    .dataframe tbody tr th {\n",
       "        vertical-align: top;\n",
       "    }\n",
       "\n",
       "    .dataframe thead th {\n",
       "        text-align: right;\n",
       "    }\n",
       "</style>\n",
       "<table border=\"1\" class=\"dataframe\">\n",
       "  <thead>\n",
       "    <tr style=\"text-align: right;\">\n",
       "      <th></th>\n",
       "      <th>NU_NOTA_REDACAO</th>\n",
       "    </tr>\n",
       "    <tr>\n",
       "      <th>NO_Q001</th>\n",
       "      <th></th>\n",
       "    </tr>\n",
       "  </thead>\n",
       "  <tbody>\n",
       "    <tr>\n",
       "      <th>Completou a Pós-graduação</th>\n",
       "      <td>698.103030</td>\n",
       "    </tr>\n",
       "    <tr>\n",
       "      <th>Completou a Faculdade, mas não completou a Pós-graduação</th>\n",
       "      <td>666.527051</td>\n",
       "    </tr>\n",
       "    <tr>\n",
       "      <th>Completou o Ensino Médio, mas não completou a Faculdade</th>\n",
       "      <td>596.712390</td>\n",
       "    </tr>\n",
       "    <tr>\n",
       "      <th>Completou a 8ª série/9º ano do Ensino Fundamental, mas não completou o Ensino Médio</th>\n",
       "      <td>563.397307</td>\n",
       "    </tr>\n",
       "    <tr>\n",
       "      <th>Completou a 4ª série/5º ano, mas não completou a 8ª série/9º ano do Ensino Fundamental</th>\n",
       "      <td>549.519908</td>\n",
       "    </tr>\n",
       "    <tr>\n",
       "      <th>Não sei</th>\n",
       "      <td>539.558847</td>\n",
       "    </tr>\n",
       "    <tr>\n",
       "      <th>Não completou a 4ª série/5º ano do Ensino Fundamental</th>\n",
       "      <td>523.741892</td>\n",
       "    </tr>\n",
       "    <tr>\n",
       "      <th>Nunca estudou</th>\n",
       "      <td>471.136225</td>\n",
       "    </tr>\n",
       "  </tbody>\n",
       "</table>\n",
       "</div>"
      ],
      "text/plain": [
       "                                                    NU_NOTA_REDACAO\n",
       "NO_Q001                                                            \n",
       "Completou a Pós-graduação                                698.103030\n",
       "Completou a Faculdade, mas não completou a Pós-...       666.527051\n",
       "Completou o Ensino Médio, mas não completou a F...       596.712390\n",
       "Completou a 8ª série/9º ano do Ensino Fundament...       563.397307\n",
       "Completou a 4ª série/5º ano, mas não completou ...       549.519908\n",
       "Não sei                                                  539.558847\n",
       "Não completou a 4ª série/5º ano do Ensino Funda...       523.741892\n",
       "Nunca estudou                                            471.136225"
      ]
     },
     "execution_count": 59,
     "metadata": {},
     "output_type": "execute_result"
    }
   ],
   "source": [
    "enem_uf.filter(items=['NU_NOTA_REDACAO', 'NO_Q001']).where(enem_uf.SG_UF_RESIDENCIA == 'DF')\\\n",
    "                                                    .groupby('NO_Q001')\\\n",
    "                                                    .mean().sort_values(by='NU_NOTA_REDACAO', ascending=False)"
   ]
  },
  {
   "cell_type": "code",
   "execution_count": 64,
   "id": "39caad92-c03e-410c-a5a0-8672d92f09ee",
   "metadata": {},
   "outputs": [
    {
     "data": {
      "text/html": [
       "<div>\n",
       "<style scoped>\n",
       "    .dataframe tbody tr th:only-of-type {\n",
       "        vertical-align: middle;\n",
       "    }\n",
       "\n",
       "    .dataframe tbody tr th {\n",
       "        vertical-align: top;\n",
       "    }\n",
       "\n",
       "    .dataframe thead th {\n",
       "        text-align: right;\n",
       "    }\n",
       "</style>\n",
       "<table border=\"1\" class=\"dataframe\">\n",
       "  <thead>\n",
       "    <tr style=\"text-align: right;\">\n",
       "      <th></th>\n",
       "      <th></th>\n",
       "      <th>NU_NOTA_REDACAO</th>\n",
       "    </tr>\n",
       "    <tr>\n",
       "      <th>SG_UF_RESIDENCIA</th>\n",
       "      <th>NO_Q001</th>\n",
       "      <th></th>\n",
       "    </tr>\n",
       "  </thead>\n",
       "  <tbody>\n",
       "    <tr>\n",
       "      <th rowspan=\"5\" valign=\"top\">AC</th>\n",
       "      <th>Completou a 4ª série/5º ano, mas não completou a 8ª série/9º ano do Ensino Fundamental</th>\n",
       "      <td>528.568720</td>\n",
       "    </tr>\n",
       "    <tr>\n",
       "      <th>Completou a 8ª série/9º ano do Ensino Fundamental, mas não completou o Ensino Médio</th>\n",
       "      <td>535.711631</td>\n",
       "    </tr>\n",
       "    <tr>\n",
       "      <th>Completou a Faculdade, mas não completou a Pós-graduação</th>\n",
       "      <td>610.580771</td>\n",
       "    </tr>\n",
       "    <tr>\n",
       "      <th>Completou a Pós-graduação</th>\n",
       "      <td>637.857143</td>\n",
       "    </tr>\n",
       "    <tr>\n",
       "      <th>Completou o Ensino Médio, mas não completou a Faculdade</th>\n",
       "      <td>559.518314</td>\n",
       "    </tr>\n",
       "    <tr>\n",
       "      <th>...</th>\n",
       "      <th>...</th>\n",
       "      <td>...</td>\n",
       "    </tr>\n",
       "    <tr>\n",
       "      <th rowspan=\"5\" valign=\"top\">TO</th>\n",
       "      <th>Completou a Pós-graduação</th>\n",
       "      <td>675.814227</td>\n",
       "    </tr>\n",
       "    <tr>\n",
       "      <th>Completou o Ensino Médio, mas não completou a Faculdade</th>\n",
       "      <td>573.981304</td>\n",
       "    </tr>\n",
       "    <tr>\n",
       "      <th>Nunca estudou</th>\n",
       "      <td>463.656109</td>\n",
       "    </tr>\n",
       "    <tr>\n",
       "      <th>Não completou a 4ª série/5º ano do Ensino Fundamental</th>\n",
       "      <td>507.535642</td>\n",
       "    </tr>\n",
       "    <tr>\n",
       "      <th>Não sei</th>\n",
       "      <td>517.603524</td>\n",
       "    </tr>\n",
       "  </tbody>\n",
       "</table>\n",
       "<p>216 rows × 1 columns</p>\n",
       "</div>"
      ],
      "text/plain": [
       "                                                                     NU_NOTA_REDACAO\n",
       "SG_UF_RESIDENCIA NO_Q001                                                            \n",
       "AC               Completou a 4ª série/5º ano, mas não completou ...       528.568720\n",
       "                 Completou a 8ª série/9º ano do Ensino Fundament...       535.711631\n",
       "                 Completou a Faculdade, mas não completou a Pós-...       610.580771\n",
       "                 Completou a Pós-graduação                                637.857143\n",
       "                 Completou o Ensino Médio, mas não completou a F...       559.518314\n",
       "...                                                                              ...\n",
       "TO               Completou a Pós-graduação                                675.814227\n",
       "                 Completou o Ensino Médio, mas não completou a F...       573.981304\n",
       "                 Nunca estudou                                            463.656109\n",
       "                 Não completou a 4ª série/5º ano do Ensino Funda...       507.535642\n",
       "                 Não sei                                                  517.603524\n",
       "\n",
       "[216 rows x 1 columns]"
      ]
     },
     "execution_count": 64,
     "metadata": {},
     "output_type": "execute_result"
    }
   ],
   "source": [
    "enem_uf.filter(items=['NU_NOTA_REDACAO', 'NO_Q001', 'SG_UF_RESIDENCIA']).groupby(['SG_UF_RESIDENCIA', 'NO_Q001']).mean()"
   ]
  },
  {
   "cell_type": "code",
   "execution_count": 109,
   "id": "dfbdcee2-d3bf-4cca-9cba-003affbe67a5",
   "metadata": {},
   "outputs": [
    {
     "data": {
      "image/png": "[encoded data removed]",
      "text/plain": [
       "<Figure size 1152x576 with 1 Axes>"
      ]
     },
     "metadata": {
      "needs_background": "light"
     },
     "output_type": "display_data"
    }
   ],
   "source": [
    "ax = enem_uf.filter(items=['SG_UF_RESIDENCIA','Q001','NU_NOTA_REDACAO' ])\\\n",
    "                                .where(enem_uf.Q001 != 'H')\\\n",
    "                                .groupby(['Q001','SG_UF_RESIDENCIA'])\\\n",
    "                                .mean().sort_values(by='NU_NOTA_REDACAO', ascending=False)\\\n",
    "                                .unstack().plot(figsize=(16, 8), fontsize=14, grid=False)\n",
    "ax.set_title('Nota redação x escolaridade x estado', fontsize=23)\n",
    "\n",
    "handles, labels = ax.get_legend_handles_labels()\n",
    "\n",
    "edited_labels = [re.search(',\\s(.+?)\\)', label).group(1) for label in labels]\n",
    "ax.legend(edited_labels, bbox_to_anchor=(1.01, 1), loc=0, borderaxespad=0., fontsize=11)\n",
    "\n",
    "textdictQ001 = \"\"\n",
    "for key, value in dicionario_q001_q002.items():\n",
    "    textdictQ001 = textdictQ001 + f\"{key} : {value}\\n\"\n",
    "\n",
    "ax.text(0.025,0.65, textdictQ001, transform=ax.transAxes, fontsize=12,\n",
    "       bbox={'boxstyle':'round', 'facecolor':'wheat', 'alpha':0.5});"
   ]
  },
  {
   "cell_type": "markdown",
   "id": "b2c5efff-e318-4499-8873-c54b08fbe70b",
   "metadata": {},
   "source": [
    "## Nota do Enem x IDHM"
   ]
  },
  {
   "cell_type": "code",
   "execution_count": 113,
   "id": "8a9ed063-4c7c-49f5-b08c-31578f8ebfe4",
   "metadata": {},
   "outputs": [],
   "source": [
    "colunas_selec = ['CO_MUNICIPIO_RESIDENCIA',\n",
    "                'NO_MUNICIPIO_RESIDENCIA', 'CO_UF_RESIDENCIA', 'SG_UF_RESIDENCIA','NU_NOTA_CN',\n",
    "                'NU_NOTA_CH', 'NU_NOTA_LC', 'NU_NOTA_MT', 'NU_NOTA_REDACAO']"
   ]
  },
  {
   "cell_type": "code",
   "execution_count": 114,
   "id": "a3885145-de4b-40a2-b095-3bdd5ebe62ec",
   "metadata": {},
   "outputs": [],
   "source": [
    "dd_enem_residencia = dd.read_csv('dados/MICRODADOS_ENEM_2019.csv', blocksize=100*1024*1024, usecols=colunas_selec,\\\n",
    "                              sep=';', encoding='ISO-8859-1')\n",
    "\n",
    "enem_residencia = dd_enem_residencia.compute(num_workers=8)"
   ]
  },
  {
   "cell_type": "code",
   "execution_count": 115,
   "id": "c61245b1-bbd1-408e-b7e0-16ee0a39e1d1",
   "metadata": {},
   "outputs": [
    {
     "data": {
      "text/html": [
       "<div>\n",
       "<style scoped>\n",
       "    .dataframe tbody tr th:only-of-type {\n",
       "        vertical-align: middle;\n",
       "    }\n",
       "\n",
       "    .dataframe tbody tr th {\n",
       "        vertical-align: top;\n",
       "    }\n",
       "\n",
       "    .dataframe thead th {\n",
       "        text-align: right;\n",
       "    }\n",
       "</style>\n",
       "<table border=\"1\" class=\"dataframe\">\n",
       "  <thead>\n",
       "    <tr style=\"text-align: right;\">\n",
       "      <th></th>\n",
       "      <th>CO_MUNICIPIO_RESIDENCIA</th>\n",
       "      <th>NO_MUNICIPIO_RESIDENCIA</th>\n",
       "      <th>CO_UF_RESIDENCIA</th>\n",
       "      <th>SG_UF_RESIDENCIA</th>\n",
       "      <th>NU_NOTA_CN</th>\n",
       "      <th>NU_NOTA_CH</th>\n",
       "      <th>NU_NOTA_LC</th>\n",
       "      <th>NU_NOTA_MT</th>\n",
       "      <th>NU_NOTA_REDACAO</th>\n",
       "    </tr>\n",
       "  </thead>\n",
       "  <tbody>\n",
       "    <tr>\n",
       "      <th>0</th>\n",
       "      <td>1506807</td>\n",
       "      <td>Santarém</td>\n",
       "      <td>15</td>\n",
       "      <td>PA</td>\n",
       "      <td>472.9</td>\n",
       "      <td>466.0</td>\n",
       "      <td>497.3</td>\n",
       "      <td>369.1</td>\n",
       "      <td>780.0</td>\n",
       "    </tr>\n",
       "    <tr>\n",
       "      <th>1</th>\n",
       "      <td>1504059</td>\n",
       "      <td>Mãe do Rio</td>\n",
       "      <td>15</td>\n",
       "      <td>PA</td>\n",
       "      <td>358.9</td>\n",
       "      <td>495.4</td>\n",
       "      <td>482.3</td>\n",
       "      <td>416.5</td>\n",
       "      <td>600.0</td>\n",
       "    </tr>\n",
       "    <tr>\n",
       "      <th>2</th>\n",
       "      <td>1505502</td>\n",
       "      <td>Paragominas</td>\n",
       "      <td>15</td>\n",
       "      <td>PA</td>\n",
       "      <td>574.2</td>\n",
       "      <td>538.7</td>\n",
       "      <td>582.6</td>\n",
       "      <td>571.5</td>\n",
       "      <td>640.0</td>\n",
       "    </tr>\n",
       "    <tr>\n",
       "      <th>3</th>\n",
       "      <td>1507706</td>\n",
       "      <td>São Sebastião da Boa Vista</td>\n",
       "      <td>15</td>\n",
       "      <td>PA</td>\n",
       "      <td>NaN</td>\n",
       "      <td>NaN</td>\n",
       "      <td>NaN</td>\n",
       "      <td>NaN</td>\n",
       "      <td>NaN</td>\n",
       "    </tr>\n",
       "    <tr>\n",
       "      <th>4</th>\n",
       "      <td>1503903</td>\n",
       "      <td>Juruti</td>\n",
       "      <td>15</td>\n",
       "      <td>PA</td>\n",
       "      <td>NaN</td>\n",
       "      <td>NaN</td>\n",
       "      <td>NaN</td>\n",
       "      <td>NaN</td>\n",
       "      <td>NaN</td>\n",
       "    </tr>\n",
       "  </tbody>\n",
       "</table>\n",
       "</div>"
      ],
      "text/plain": [
       "   CO_MUNICIPIO_RESIDENCIA     NO_MUNICIPIO_RESIDENCIA  CO_UF_RESIDENCIA  \\\n",
       "0                  1506807                    Santarém                15   \n",
       "1                  1504059                  Mãe do Rio                15   \n",
       "2                  1505502                 Paragominas                15   \n",
       "3                  1507706  São Sebastião da Boa Vista                15   \n",
       "4                  1503903                      Juruti                15   \n",
       "\n",
       "  SG_UF_RESIDENCIA  NU_NOTA_CN  NU_NOTA_CH  NU_NOTA_LC  NU_NOTA_MT  \\\n",
       "0               PA       472.9       466.0       497.3       369.1   \n",
       "1               PA       358.9       495.4       482.3       416.5   \n",
       "2               PA       574.2       538.7       582.6       571.5   \n",
       "3               PA         NaN         NaN         NaN         NaN   \n",
       "4               PA         NaN         NaN         NaN         NaN   \n",
       "\n",
       "   NU_NOTA_REDACAO  \n",
       "0            780.0  \n",
       "1            600.0  \n",
       "2            640.0  \n",
       "3              NaN  \n",
       "4              NaN  "
      ]
     },
     "execution_count": 115,
     "metadata": {},
     "output_type": "execute_result"
    }
   ],
   "source": [
    "enem_residencia.head()"
   ]
  },
  {
   "cell_type": "code",
   "execution_count": 118,
   "id": "d6894ddb-14b5-4b33-8fc0-3701e126940a",
   "metadata": {},
   "outputs": [],
   "source": [
    "media_enem_residencia = enem_residencia.groupby(['CO_MUNICIPIO_RESIDENCIA',\n",
    "       'NO_MUNICIPIO_RESIDENCIA', 'CO_UF_RESIDENCIA', 'SG_UF_RESIDENCIA'], as_index=False).mean()"
   ]
  },
  {
   "cell_type": "code",
   "execution_count": 119,
   "id": "fc8073f1-2ed7-4fe7-a8e1-2ffeb740281f",
   "metadata": {},
   "outputs": [
    {
     "data": {
      "text/html": [
       "<div>\n",
       "<style scoped>\n",
       "    .dataframe tbody tr th:only-of-type {\n",
       "        vertical-align: middle;\n",
       "    }\n",
       "\n",
       "    .dataframe tbody tr th {\n",
       "        vertical-align: top;\n",
       "    }\n",
       "\n",
       "    .dataframe thead th {\n",
       "        text-align: right;\n",
       "    }\n",
       "</style>\n",
       "<table border=\"1\" class=\"dataframe\">\n",
       "  <thead>\n",
       "    <tr style=\"text-align: right;\">\n",
       "      <th></th>\n",
       "      <th>CO_MUNICIPIO_RESIDENCIA</th>\n",
       "      <th>NO_MUNICIPIO_RESIDENCIA</th>\n",
       "      <th>CO_UF_RESIDENCIA</th>\n",
       "      <th>SG_UF_RESIDENCIA</th>\n",
       "      <th>NU_NOTA_CN</th>\n",
       "      <th>NU_NOTA_CH</th>\n",
       "      <th>NU_NOTA_LC</th>\n",
       "      <th>NU_NOTA_MT</th>\n",
       "      <th>NU_NOTA_REDACAO</th>\n",
       "    </tr>\n",
       "  </thead>\n",
       "  <tbody>\n",
       "    <tr>\n",
       "      <th>0</th>\n",
       "      <td>1100015</td>\n",
       "      <td>Alta Floresta D'Oeste</td>\n",
       "      <td>11</td>\n",
       "      <td>RO</td>\n",
       "      <td>466.877454</td>\n",
       "      <td>493.412214</td>\n",
       "      <td>504.998473</td>\n",
       "      <td>503.000000</td>\n",
       "      <td>555.776081</td>\n",
       "    </tr>\n",
       "    <tr>\n",
       "      <th>1</th>\n",
       "      <td>1100023</td>\n",
       "      <td>Ariquemes</td>\n",
       "      <td>11</td>\n",
       "      <td>RO</td>\n",
       "      <td>463.542845</td>\n",
       "      <td>489.960333</td>\n",
       "      <td>506.999802</td>\n",
       "      <td>498.971037</td>\n",
       "      <td>524.149147</td>\n",
       "    </tr>\n",
       "    <tr>\n",
       "      <th>2</th>\n",
       "      <td>1100031</td>\n",
       "      <td>Cabixi</td>\n",
       "      <td>11</td>\n",
       "      <td>RO</td>\n",
       "      <td>454.453125</td>\n",
       "      <td>474.152239</td>\n",
       "      <td>486.223881</td>\n",
       "      <td>497.443750</td>\n",
       "      <td>492.835821</td>\n",
       "    </tr>\n",
       "    <tr>\n",
       "      <th>3</th>\n",
       "      <td>1100049</td>\n",
       "      <td>Cacoal</td>\n",
       "      <td>11</td>\n",
       "      <td>RO</td>\n",
       "      <td>469.165657</td>\n",
       "      <td>494.664063</td>\n",
       "      <td>510.185132</td>\n",
       "      <td>510.684635</td>\n",
       "      <td>538.657074</td>\n",
       "    </tr>\n",
       "    <tr>\n",
       "      <th>4</th>\n",
       "      <td>1100056</td>\n",
       "      <td>Cerejeiras</td>\n",
       "      <td>11</td>\n",
       "      <td>RO</td>\n",
       "      <td>468.381164</td>\n",
       "      <td>488.456536</td>\n",
       "      <td>507.604902</td>\n",
       "      <td>505.175685</td>\n",
       "      <td>552.222222</td>\n",
       "    </tr>\n",
       "    <tr>\n",
       "      <th>...</th>\n",
       "      <td>...</td>\n",
       "      <td>...</td>\n",
       "      <td>...</td>\n",
       "      <td>...</td>\n",
       "      <td>...</td>\n",
       "      <td>...</td>\n",
       "      <td>...</td>\n",
       "      <td>...</td>\n",
       "      <td>...</td>\n",
       "    </tr>\n",
       "    <tr>\n",
       "      <th>5565</th>\n",
       "      <td>5222005</td>\n",
       "      <td>Vianópolis</td>\n",
       "      <td>52</td>\n",
       "      <td>GO</td>\n",
       "      <td>467.945495</td>\n",
       "      <td>492.496537</td>\n",
       "      <td>512.282684</td>\n",
       "      <td>528.815315</td>\n",
       "      <td>563.896104</td>\n",
       "    </tr>\n",
       "    <tr>\n",
       "      <th>5566</th>\n",
       "      <td>5222054</td>\n",
       "      <td>Vicentinópolis</td>\n",
       "      <td>52</td>\n",
       "      <td>GO</td>\n",
       "      <td>443.824194</td>\n",
       "      <td>469.941270</td>\n",
       "      <td>489.447619</td>\n",
       "      <td>504.204839</td>\n",
       "      <td>503.492063</td>\n",
       "    </tr>\n",
       "    <tr>\n",
       "      <th>5567</th>\n",
       "      <td>5222203</td>\n",
       "      <td>Vila Boa</td>\n",
       "      <td>52</td>\n",
       "      <td>GO</td>\n",
       "      <td>433.489130</td>\n",
       "      <td>446.955102</td>\n",
       "      <td>469.622449</td>\n",
       "      <td>474.306522</td>\n",
       "      <td>465.714286</td>\n",
       "    </tr>\n",
       "    <tr>\n",
       "      <th>5568</th>\n",
       "      <td>5222302</td>\n",
       "      <td>Vila Propício</td>\n",
       "      <td>52</td>\n",
       "      <td>GO</td>\n",
       "      <td>450.603636</td>\n",
       "      <td>464.472414</td>\n",
       "      <td>480.539655</td>\n",
       "      <td>474.847273</td>\n",
       "      <td>460.689655</td>\n",
       "    </tr>\n",
       "    <tr>\n",
       "      <th>5569</th>\n",
       "      <td>5300108</td>\n",
       "      <td>Brasília</td>\n",
       "      <td>53</td>\n",
       "      <td>DF</td>\n",
       "      <td>492.786286</td>\n",
       "      <td>523.134671</td>\n",
       "      <td>535.237884</td>\n",
       "      <td>536.788562</td>\n",
       "      <td>585.451783</td>\n",
       "    </tr>\n",
       "  </tbody>\n",
       "</table>\n",
       "<p>5570 rows × 9 columns</p>\n",
       "</div>"
      ],
      "text/plain": [
       "      CO_MUNICIPIO_RESIDENCIA NO_MUNICIPIO_RESIDENCIA  CO_UF_RESIDENCIA  \\\n",
       "0                     1100015   Alta Floresta D'Oeste                11   \n",
       "1                     1100023               Ariquemes                11   \n",
       "2                     1100031                  Cabixi                11   \n",
       "3                     1100049                  Cacoal                11   \n",
       "4                     1100056              Cerejeiras                11   \n",
       "...                       ...                     ...               ...   \n",
       "5565                  5222005              Vianópolis                52   \n",
       "5566                  5222054          Vicentinópolis                52   \n",
       "5567                  5222203                Vila Boa                52   \n",
       "5568                  5222302           Vila Propício                52   \n",
       "5569                  5300108                Brasília                53   \n",
       "\n",
       "     SG_UF_RESIDENCIA  NU_NOTA_CN  NU_NOTA_CH  NU_NOTA_LC  NU_NOTA_MT  \\\n",
       "0                  RO  466.877454  493.412214  504.998473  503.000000   \n",
       "1                  RO  463.542845  489.960333  506.999802  498.971037   \n",
       "2                  RO  454.453125  474.152239  486.223881  497.443750   \n",
       "3                  RO  469.165657  494.664063  510.185132  510.684635   \n",
       "4                  RO  468.381164  488.456536  507.604902  505.175685   \n",
       "...               ...         ...         ...         ...         ...   \n",
       "5565               GO  467.945495  492.496537  512.282684  528.815315   \n",
       "5566               GO  443.824194  469.941270  489.447619  504.204839   \n",
       "5567               GO  433.489130  446.955102  469.622449  474.306522   \n",
       "5568               GO  450.603636  464.472414  480.539655  474.847273   \n",
       "5569               DF  492.786286  523.134671  535.237884  536.788562   \n",
       "\n",
       "      NU_NOTA_REDACAO  \n",
       "0          555.776081  \n",
       "1          524.149147  \n",
       "2          492.835821  \n",
       "3          538.657074  \n",
       "4          552.222222  \n",
       "...               ...  \n",
       "5565       563.896104  \n",
       "5566       503.492063  \n",
       "5567       465.714286  \n",
       "5568       460.689655  \n",
       "5569       585.451783  \n",
       "\n",
       "[5570 rows x 9 columns]"
      ]
     },
     "execution_count": 119,
     "metadata": {},
     "output_type": "execute_result"
    }
   ],
   "source": [
    "media_enem_residencia"
   ]
  },
  {
   "cell_type": "code",
   "execution_count": 127,
   "id": "7836dbff-2b00-4d29-8c7a-96cb5ae292a2",
   "metadata": {},
   "outputs": [
    {
     "data": {
      "text/plain": [
       "array(['Unnamed: 0', 'CO_MUNICIPIO_RESIDENCIA', 'NO_MUNICIPIO_RESIDENCIA',\n",
       "       'CO_UF_RESIDENCIA', 'SG_UF_RESIDENCIA', 'NU_NOTA_CN', 'NU_NOTA_CH',\n",
       "       'NU_NOTA_LC', 'NU_NOTA_MT', 'NU_NOTA_REDACAO'], dtype=object)"
      ]
     },
     "execution_count": 127,
     "metadata": {},
     "output_type": "execute_result"
    }
   ],
   "source": [
    "media_enem_residencia.columns.values"
   ]
  },
  {
   "cell_type": "code",
   "execution_count": 132,
   "id": "197b0a2b-95b2-493f-8496-2df2bca05fda",
   "metadata": {},
   "outputs": [],
   "source": [
    "# Esportando como csv\n",
    "media_enem_residencia.to_csv('dados/media_enem_residencia.csv', index=False,\n",
    "                             columns=['CO_MUNICIPIO_RESIDENCIA', 'NO_MUNICIPIO_RESIDENCIA',\n",
    "                             'CO_UF_RESIDENCIA', 'SG_UF_RESIDENCIA', 'NU_NOTA_CN', 'NU_NOTA_CH',\n",
    "                             'NU_NOTA_LC', 'NU_NOTA_MT', 'NU_NOTA_REDACAO'])"
   ]
  },
  {
   "cell_type": "code",
   "execution_count": 133,
   "id": "1e7a1e55-80e9-493f-8733-c0629c83cc79",
   "metadata": {},
   "outputs": [],
   "source": [
    "dd_media_enem_residencia = dd.read_csv('dados/media_enem_residencia.csv', blocksize=100*1024*1024, \n",
    "                                       sep=',', encoding='UTF-8')\n",
    "\n",
    "media_enem_residencia = dd_media_enem_residencia.compute(num_workers=8)"
   ]
  },
  {
   "cell_type": "code",
   "execution_count": 134,
   "id": "a08393c9-9630-4c73-9776-dbef1b062df6",
   "metadata": {},
   "outputs": [
    {
     "data": {
      "text/html": [
       "<div>\n",
       "<style scoped>\n",
       "    .dataframe tbody tr th:only-of-type {\n",
       "        vertical-align: middle;\n",
       "    }\n",
       "\n",
       "    .dataframe tbody tr th {\n",
       "        vertical-align: top;\n",
       "    }\n",
       "\n",
       "    .dataframe thead th {\n",
       "        text-align: right;\n",
       "    }\n",
       "</style>\n",
       "<table border=\"1\" class=\"dataframe\">\n",
       "  <thead>\n",
       "    <tr style=\"text-align: right;\">\n",
       "      <th></th>\n",
       "      <th>CO_MUNICIPIO_RESIDENCIA</th>\n",
       "      <th>NO_MUNICIPIO_RESIDENCIA</th>\n",
       "      <th>CO_UF_RESIDENCIA</th>\n",
       "      <th>SG_UF_RESIDENCIA</th>\n",
       "      <th>NU_NOTA_CN</th>\n",
       "      <th>NU_NOTA_CH</th>\n",
       "      <th>NU_NOTA_LC</th>\n",
       "      <th>NU_NOTA_MT</th>\n",
       "      <th>NU_NOTA_REDACAO</th>\n",
       "    </tr>\n",
       "  </thead>\n",
       "  <tbody>\n",
       "    <tr>\n",
       "      <th>0</th>\n",
       "      <td>1100015</td>\n",
       "      <td>Alta Floresta D'Oeste</td>\n",
       "      <td>11</td>\n",
       "      <td>RO</td>\n",
       "      <td>466.877454</td>\n",
       "      <td>493.412214</td>\n",
       "      <td>504.998473</td>\n",
       "      <td>503.000000</td>\n",
       "      <td>555.776081</td>\n",
       "    </tr>\n",
       "    <tr>\n",
       "      <th>1</th>\n",
       "      <td>1100023</td>\n",
       "      <td>Ariquemes</td>\n",
       "      <td>11</td>\n",
       "      <td>RO</td>\n",
       "      <td>463.542845</td>\n",
       "      <td>489.960333</td>\n",
       "      <td>506.999802</td>\n",
       "      <td>498.971037</td>\n",
       "      <td>524.149147</td>\n",
       "    </tr>\n",
       "    <tr>\n",
       "      <th>2</th>\n",
       "      <td>1100031</td>\n",
       "      <td>Cabixi</td>\n",
       "      <td>11</td>\n",
       "      <td>RO</td>\n",
       "      <td>454.453125</td>\n",
       "      <td>474.152239</td>\n",
       "      <td>486.223881</td>\n",
       "      <td>497.443750</td>\n",
       "      <td>492.835821</td>\n",
       "    </tr>\n",
       "    <tr>\n",
       "      <th>3</th>\n",
       "      <td>1100049</td>\n",
       "      <td>Cacoal</td>\n",
       "      <td>11</td>\n",
       "      <td>RO</td>\n",
       "      <td>469.165657</td>\n",
       "      <td>494.664063</td>\n",
       "      <td>510.185132</td>\n",
       "      <td>510.684635</td>\n",
       "      <td>538.657074</td>\n",
       "    </tr>\n",
       "    <tr>\n",
       "      <th>4</th>\n",
       "      <td>1100056</td>\n",
       "      <td>Cerejeiras</td>\n",
       "      <td>11</td>\n",
       "      <td>RO</td>\n",
       "      <td>468.381164</td>\n",
       "      <td>488.456536</td>\n",
       "      <td>507.604902</td>\n",
       "      <td>505.175685</td>\n",
       "      <td>552.222222</td>\n",
       "    </tr>\n",
       "  </tbody>\n",
       "</table>\n",
       "</div>"
      ],
      "text/plain": [
       "   CO_MUNICIPIO_RESIDENCIA NO_MUNICIPIO_RESIDENCIA  CO_UF_RESIDENCIA  \\\n",
       "0                  1100015   Alta Floresta D'Oeste                11   \n",
       "1                  1100023               Ariquemes                11   \n",
       "2                  1100031                  Cabixi                11   \n",
       "3                  1100049                  Cacoal                11   \n",
       "4                  1100056              Cerejeiras                11   \n",
       "\n",
       "  SG_UF_RESIDENCIA  NU_NOTA_CN  NU_NOTA_CH  NU_NOTA_LC  NU_NOTA_MT  \\\n",
       "0               RO  466.877454  493.412214  504.998473  503.000000   \n",
       "1               RO  463.542845  489.960333  506.999802  498.971037   \n",
       "2               RO  454.453125  474.152239  486.223881  497.443750   \n",
       "3               RO  469.165657  494.664063  510.185132  510.684635   \n",
       "4               RO  468.381164  488.456536  507.604902  505.175685   \n",
       "\n",
       "   NU_NOTA_REDACAO  \n",
       "0       555.776081  \n",
       "1       524.149147  \n",
       "2       492.835821  \n",
       "3       538.657074  \n",
       "4       552.222222  "
      ]
     },
     "execution_count": 134,
     "metadata": {},
     "output_type": "execute_result"
    }
   ],
   "source": [
    "media_enem_residencia.head()"
   ]
  },
  {
   "cell_type": "code",
   "execution_count": 155,
   "id": "0ac492f1-635b-4fcc-8b8f-c041299a6ba4",
   "metadata": {},
   "outputs": [],
   "source": [
    "idhm_municipios = pd.read_csv('dados/idhm_municipios_2010.csv', sep=',')"
   ]
  },
  {
   "cell_type": "code",
   "execution_count": 156,
   "id": "975d2bf6-3fab-4e79-a1eb-439a0cd2ad60",
   "metadata": {},
   "outputs": [
    {
     "data": {
      "text/html": [
       "<div>\n",
       "<style scoped>\n",
       "    .dataframe tbody tr th:only-of-type {\n",
       "        vertical-align: middle;\n",
       "    }\n",
       "\n",
       "    .dataframe tbody tr th {\n",
       "        vertical-align: top;\n",
       "    }\n",
       "\n",
       "    .dataframe thead th {\n",
       "        text-align: right;\n",
       "    }\n",
       "</style>\n",
       "<table border=\"1\" class=\"dataframe\">\n",
       "  <thead>\n",
       "    <tr style=\"text-align: right;\">\n",
       "      <th></th>\n",
       "      <th>codMunicipio</th>\n",
       "      <th>Município</th>\n",
       "      <th>Estado</th>\n",
       "      <th>MUNICIPIO_ESTADO</th>\n",
       "      <th>IDHM</th>\n",
       "      <th>IDHM_R</th>\n",
       "      <th>IDHM_L</th>\n",
       "      <th>IDHM_E</th>\n",
       "    </tr>\n",
       "  </thead>\n",
       "  <tbody>\n",
       "    <tr>\n",
       "      <th>0</th>\n",
       "      <td>5200050</td>\n",
       "      <td>Abadia de Goiás</td>\n",
       "      <td>GO</td>\n",
       "      <td>ABADIA DE GOIÁS-GO</td>\n",
       "      <td>0,708</td>\n",
       "      <td>0,687</td>\n",
       "      <td>0,83</td>\n",
       "      <td>0,622</td>\n",
       "    </tr>\n",
       "    <tr>\n",
       "      <th>1</th>\n",
       "      <td>3100104</td>\n",
       "      <td>Abadia dos Dourados</td>\n",
       "      <td>MG</td>\n",
       "      <td>ABADIA DOS DOURADOS-MG</td>\n",
       "      <td>0,689</td>\n",
       "      <td>0,693</td>\n",
       "      <td>0,839</td>\n",
       "      <td>0,563</td>\n",
       "    </tr>\n",
       "    <tr>\n",
       "      <th>2</th>\n",
       "      <td>5200100</td>\n",
       "      <td>Abadiânia</td>\n",
       "      <td>GO</td>\n",
       "      <td>ABADIÂNIA-GO</td>\n",
       "      <td>0,689</td>\n",
       "      <td>0,671</td>\n",
       "      <td>0,841</td>\n",
       "      <td>0,579</td>\n",
       "    </tr>\n",
       "    <tr>\n",
       "      <th>3</th>\n",
       "      <td>3100203</td>\n",
       "      <td>Abaeté</td>\n",
       "      <td>MG</td>\n",
       "      <td>ABAETÉ-MG</td>\n",
       "      <td>0,698</td>\n",
       "      <td>0,72</td>\n",
       "      <td>0,848</td>\n",
       "      <td>0,556</td>\n",
       "    </tr>\n",
       "    <tr>\n",
       "      <th>4</th>\n",
       "      <td>1500107</td>\n",
       "      <td>Abaetetuba</td>\n",
       "      <td>PA</td>\n",
       "      <td>ABAETETUBA-PA</td>\n",
       "      <td>0,628</td>\n",
       "      <td>0,579</td>\n",
       "      <td>0,798</td>\n",
       "      <td>0,537</td>\n",
       "    </tr>\n",
       "  </tbody>\n",
       "</table>\n",
       "</div>"
      ],
      "text/plain": [
       "   codMunicipio            Município Estado        MUNICIPIO_ESTADO   IDHM  \\\n",
       "0       5200050      Abadia de Goiás     GO      ABADIA DE GOIÁS-GO  0,708   \n",
       "1       3100104  Abadia dos Dourados     MG  ABADIA DOS DOURADOS-MG  0,689   \n",
       "2       5200100            Abadiânia     GO            ABADIÂNIA-GO  0,689   \n",
       "3       3100203               Abaeté     MG               ABAETÉ-MG  0,698   \n",
       "4       1500107           Abaetetuba     PA           ABAETETUBA-PA  0,628   \n",
       "\n",
       "  IDHM_R IDHM_L IDHM_E  \n",
       "0  0,687   0,83  0,622  \n",
       "1  0,693  0,839  0,563  \n",
       "2  0,671  0,841  0,579  \n",
       "3   0,72  0,848  0,556  \n",
       "4  0,579  0,798  0,537  "
      ]
     },
     "execution_count": 156,
     "metadata": {},
     "output_type": "execute_result"
    }
   ],
   "source": [
    "idhm_municipios.head()"
   ]
  },
  {
   "cell_type": "code",
   "execution_count": 157,
   "id": "5e73660d-c9a4-4902-a0c1-c915e85c74f2",
   "metadata": {},
   "outputs": [],
   "source": [
    "# Agrupando dados de dois dataframes\n",
    "enem_media_idhm = pd.merge(media_enem_residencia, idhm_municipios, how='left', left_on='CO_MUNICIPIO_RESIDENCIA', right_on=['codMunicipio'])"
   ]
  },
  {
   "cell_type": "code",
   "execution_count": 158,
   "id": "8e6e8cb7-6d2b-4a4a-849c-e19c23303d44",
   "metadata": {},
   "outputs": [
    {
     "data": {
      "text/html": [
       "<div>\n",
       "<style scoped>\n",
       "    .dataframe tbody tr th:only-of-type {\n",
       "        vertical-align: middle;\n",
       "    }\n",
       "\n",
       "    .dataframe tbody tr th {\n",
       "        vertical-align: top;\n",
       "    }\n",
       "\n",
       "    .dataframe thead th {\n",
       "        text-align: right;\n",
       "    }\n",
       "</style>\n",
       "<table border=\"1\" class=\"dataframe\">\n",
       "  <thead>\n",
       "    <tr style=\"text-align: right;\">\n",
       "      <th></th>\n",
       "      <th>CO_MUNICIPIO_RESIDENCIA</th>\n",
       "      <th>NO_MUNICIPIO_RESIDENCIA</th>\n",
       "      <th>CO_UF_RESIDENCIA</th>\n",
       "      <th>SG_UF_RESIDENCIA</th>\n",
       "      <th>NU_NOTA_CN</th>\n",
       "      <th>NU_NOTA_CH</th>\n",
       "      <th>NU_NOTA_LC</th>\n",
       "      <th>NU_NOTA_MT</th>\n",
       "      <th>NU_NOTA_REDACAO</th>\n",
       "      <th>codMunicipio</th>\n",
       "      <th>Município</th>\n",
       "      <th>Estado</th>\n",
       "      <th>MUNICIPIO_ESTADO</th>\n",
       "      <th>IDHM</th>\n",
       "      <th>IDHM_R</th>\n",
       "      <th>IDHM_L</th>\n",
       "      <th>IDHM_E</th>\n",
       "    </tr>\n",
       "  </thead>\n",
       "  <tbody>\n",
       "    <tr>\n",
       "      <th>0</th>\n",
       "      <td>1100015</td>\n",
       "      <td>Alta Floresta D'Oeste</td>\n",
       "      <td>11</td>\n",
       "      <td>RO</td>\n",
       "      <td>466.877454</td>\n",
       "      <td>493.412214</td>\n",
       "      <td>504.998473</td>\n",
       "      <td>503.000000</td>\n",
       "      <td>555.776081</td>\n",
       "      <td>1100015</td>\n",
       "      <td>Alta Floresta D'Oeste</td>\n",
       "      <td>RO</td>\n",
       "      <td>ALTA FLORESTA D'OESTE-RO</td>\n",
       "      <td>0,641</td>\n",
       "      <td>0,657</td>\n",
       "      <td>0,763</td>\n",
       "      <td>0,526</td>\n",
       "    </tr>\n",
       "    <tr>\n",
       "      <th>1</th>\n",
       "      <td>1100023</td>\n",
       "      <td>Ariquemes</td>\n",
       "      <td>11</td>\n",
       "      <td>RO</td>\n",
       "      <td>463.542845</td>\n",
       "      <td>489.960333</td>\n",
       "      <td>506.999802</td>\n",
       "      <td>498.971037</td>\n",
       "      <td>524.149147</td>\n",
       "      <td>1100023</td>\n",
       "      <td>Ariquemes</td>\n",
       "      <td>RO</td>\n",
       "      <td>ARIQUEMES-RO</td>\n",
       "      <td>0,702</td>\n",
       "      <td>0,716</td>\n",
       "      <td>0,806</td>\n",
       "      <td>0,6</td>\n",
       "    </tr>\n",
       "    <tr>\n",
       "      <th>2</th>\n",
       "      <td>1100031</td>\n",
       "      <td>Cabixi</td>\n",
       "      <td>11</td>\n",
       "      <td>RO</td>\n",
       "      <td>454.453125</td>\n",
       "      <td>474.152239</td>\n",
       "      <td>486.223881</td>\n",
       "      <td>497.443750</td>\n",
       "      <td>492.835821</td>\n",
       "      <td>1100031</td>\n",
       "      <td>Cabixi</td>\n",
       "      <td>RO</td>\n",
       "      <td>CABIXI-RO</td>\n",
       "      <td>0,65</td>\n",
       "      <td>0,65</td>\n",
       "      <td>0,757</td>\n",
       "      <td>0,559</td>\n",
       "    </tr>\n",
       "    <tr>\n",
       "      <th>3</th>\n",
       "      <td>1100049</td>\n",
       "      <td>Cacoal</td>\n",
       "      <td>11</td>\n",
       "      <td>RO</td>\n",
       "      <td>469.165657</td>\n",
       "      <td>494.664063</td>\n",
       "      <td>510.185132</td>\n",
       "      <td>510.684635</td>\n",
       "      <td>538.657074</td>\n",
       "      <td>1100049</td>\n",
       "      <td>Cacoal</td>\n",
       "      <td>RO</td>\n",
       "      <td>CACOAL-RO</td>\n",
       "      <td>0,718</td>\n",
       "      <td>0,727</td>\n",
       "      <td>0,821</td>\n",
       "      <td>0,62</td>\n",
       "    </tr>\n",
       "    <tr>\n",
       "      <th>4</th>\n",
       "      <td>1100056</td>\n",
       "      <td>Cerejeiras</td>\n",
       "      <td>11</td>\n",
       "      <td>RO</td>\n",
       "      <td>468.381164</td>\n",
       "      <td>488.456536</td>\n",
       "      <td>507.604902</td>\n",
       "      <td>505.175685</td>\n",
       "      <td>552.222222</td>\n",
       "      <td>1100056</td>\n",
       "      <td>Cerejeiras</td>\n",
       "      <td>RO</td>\n",
       "      <td>CEREJEIRAS-RO</td>\n",
       "      <td>0,692</td>\n",
       "      <td>0,688</td>\n",
       "      <td>0,799</td>\n",
       "      <td>0,602</td>\n",
       "    </tr>\n",
       "  </tbody>\n",
       "</table>\n",
       "</div>"
      ],
      "text/plain": [
       "   CO_MUNICIPIO_RESIDENCIA NO_MUNICIPIO_RESIDENCIA  CO_UF_RESIDENCIA  \\\n",
       "0                  1100015   Alta Floresta D'Oeste                11   \n",
       "1                  1100023               Ariquemes                11   \n",
       "2                  1100031                  Cabixi                11   \n",
       "3                  1100049                  Cacoal                11   \n",
       "4                  1100056              Cerejeiras                11   \n",
       "\n",
       "  SG_UF_RESIDENCIA  NU_NOTA_CN  NU_NOTA_CH  NU_NOTA_LC  NU_NOTA_MT  \\\n",
       "0               RO  466.877454  493.412214  504.998473  503.000000   \n",
       "1               RO  463.542845  489.960333  506.999802  498.971037   \n",
       "2               RO  454.453125  474.152239  486.223881  497.443750   \n",
       "3               RO  469.165657  494.664063  510.185132  510.684635   \n",
       "4               RO  468.381164  488.456536  507.604902  505.175685   \n",
       "\n",
       "   NU_NOTA_REDACAO  codMunicipio              Município Estado  \\\n",
       "0       555.776081       1100015  Alta Floresta D'Oeste     RO   \n",
       "1       524.149147       1100023              Ariquemes     RO   \n",
       "2       492.835821       1100031                 Cabixi     RO   \n",
       "3       538.657074       1100049                 Cacoal     RO   \n",
       "4       552.222222       1100056             Cerejeiras     RO   \n",
       "\n",
       "           MUNICIPIO_ESTADO   IDHM IDHM_R IDHM_L IDHM_E  \n",
       "0  ALTA FLORESTA D'OESTE-RO  0,641  0,657  0,763  0,526  \n",
       "1              ARIQUEMES-RO  0,702  0,716  0,806    0,6  \n",
       "2                 CABIXI-RO   0,65   0,65  0,757  0,559  \n",
       "3                 CACOAL-RO  0,718  0,727  0,821   0,62  \n",
       "4             CEREJEIRAS-RO  0,692  0,688  0,799  0,602  "
      ]
     },
     "execution_count": 158,
     "metadata": {},
     "output_type": "execute_result"
    }
   ],
   "source": [
    "enem_media_idhm.head()"
   ]
  },
  {
   "cell_type": "code",
   "execution_count": 159,
   "id": "260334c0-9f09-464b-b98a-3350c5d13c34",
   "metadata": {},
   "outputs": [
    {
     "data": {
      "text/plain": [
       "CO_MUNICIPIO_RESIDENCIA      int64\n",
       "NO_MUNICIPIO_RESIDENCIA     object\n",
       "CO_UF_RESIDENCIA             int64\n",
       "SG_UF_RESIDENCIA            object\n",
       "NU_NOTA_CN                 float64\n",
       "NU_NOTA_CH                 float64\n",
       "NU_NOTA_LC                 float64\n",
       "NU_NOTA_MT                 float64\n",
       "NU_NOTA_REDACAO            float64\n",
       "codMunicipio                 int64\n",
       "Município                   object\n",
       "Estado                      object\n",
       "MUNICIPIO_ESTADO            object\n",
       "IDHM                        object\n",
       "IDHM_R                      object\n",
       "IDHM_L                      object\n",
       "IDHM_E                      object\n",
       "dtype: object"
      ]
     },
     "execution_count": 159,
     "metadata": {},
     "output_type": "execute_result"
    }
   ],
   "source": [
    "enem_media_idhm.dtypes"
   ]
  },
  {
   "cell_type": "code",
   "execution_count": 160,
   "id": "0e793b36-2a69-41fb-b071-c33bf8e39825",
   "metadata": {},
   "outputs": [
    {
     "ename": "ValueError",
     "evalue": "could not convert string to float: '0.550td>'",
     "output_type": "error",
     "traceback": [
      "\u001b[0;31m---------------------------------------------------------------------------\u001b[0m",
      "\u001b[0;31mValueError\u001b[0m                                Traceback (most recent call last)",
      "\u001b[0;32m<ipython-input-160-4b692c37cb09>\u001b[0m in \u001b[0;36m<module>\u001b[0;34m\u001b[0m\n\u001b[1;32m      2\u001b[0m \u001b[0menem_media_idhm\u001b[0m\u001b[0;34m[\u001b[0m\u001b[0;34m'IDHM'\u001b[0m\u001b[0;34m]\u001b[0m \u001b[0;34m=\u001b[0m \u001b[0menem_media_idhm\u001b[0m\u001b[0;34m[\u001b[0m\u001b[0;34m'IDHM'\u001b[0m\u001b[0;34m]\u001b[0m\u001b[0;34m.\u001b[0m\u001b[0mapply\u001b[0m\u001b[0;34m(\u001b[0m\u001b[0;32mlambda\u001b[0m \u001b[0mx\u001b[0m\u001b[0;34m:\u001b[0m \u001b[0mfloat\u001b[0m\u001b[0;34m(\u001b[0m\u001b[0mstr\u001b[0m\u001b[0;34m(\u001b[0m\u001b[0mx\u001b[0m\u001b[0;34m)\u001b[0m\u001b[0;34m.\u001b[0m\u001b[0mreplace\u001b[0m\u001b[0;34m(\u001b[0m\u001b[0;34m\",\"\u001b[0m\u001b[0;34m,\u001b[0m\u001b[0;34m\".\"\u001b[0m\u001b[0;34m)\u001b[0m\u001b[0;34m)\u001b[0m\u001b[0;34m)\u001b[0m\u001b[0;34m\u001b[0m\u001b[0;34m\u001b[0m\u001b[0m\n\u001b[1;32m      3\u001b[0m \u001b[0menem_media_idhm\u001b[0m\u001b[0;34m[\u001b[0m\u001b[0;34m'IDHM_E'\u001b[0m\u001b[0;34m]\u001b[0m \u001b[0;34m=\u001b[0m \u001b[0menem_media_idhm\u001b[0m\u001b[0;34m[\u001b[0m\u001b[0;34m'IDHM_E'\u001b[0m\u001b[0;34m]\u001b[0m\u001b[0;34m.\u001b[0m\u001b[0mapply\u001b[0m\u001b[0;34m(\u001b[0m\u001b[0;32mlambda\u001b[0m \u001b[0mx\u001b[0m\u001b[0;34m:\u001b[0m \u001b[0mfloat\u001b[0m\u001b[0;34m(\u001b[0m\u001b[0mstr\u001b[0m\u001b[0;34m(\u001b[0m\u001b[0mx\u001b[0m\u001b[0;34m)\u001b[0m\u001b[0;34m.\u001b[0m\u001b[0mreplace\u001b[0m\u001b[0;34m(\u001b[0m\u001b[0;34m\",\"\u001b[0m\u001b[0;34m,\u001b[0m\u001b[0;34m\".\"\u001b[0m\u001b[0;34m)\u001b[0m\u001b[0;34m)\u001b[0m\u001b[0;34m)\u001b[0m\u001b[0;34m\u001b[0m\u001b[0;34m\u001b[0m\u001b[0m\n\u001b[0;32m----> 4\u001b[0;31m \u001b[0menem_media_idhm\u001b[0m\u001b[0;34m[\u001b[0m\u001b[0;34m'IDHM_R'\u001b[0m\u001b[0;34m]\u001b[0m \u001b[0;34m=\u001b[0m \u001b[0menem_media_idhm\u001b[0m\u001b[0;34m[\u001b[0m\u001b[0;34m'IDHM_R'\u001b[0m\u001b[0;34m]\u001b[0m\u001b[0;34m.\u001b[0m\u001b[0mapply\u001b[0m\u001b[0;34m(\u001b[0m\u001b[0;32mlambda\u001b[0m \u001b[0mx\u001b[0m\u001b[0;34m:\u001b[0m \u001b[0mfloat\u001b[0m\u001b[0;34m(\u001b[0m\u001b[0mstr\u001b[0m\u001b[0;34m(\u001b[0m\u001b[0mx\u001b[0m\u001b[0;34m)\u001b[0m\u001b[0;34m.\u001b[0m\u001b[0mreplace\u001b[0m\u001b[0;34m(\u001b[0m\u001b[0;34m\",\"\u001b[0m\u001b[0;34m,\u001b[0m\u001b[0;34m\".\"\u001b[0m\u001b[0;34m)\u001b[0m\u001b[0;34m)\u001b[0m\u001b[0;34m)\u001b[0m\u001b[0;34m\u001b[0m\u001b[0;34m\u001b[0m\u001b[0m\n\u001b[0m\u001b[1;32m      5\u001b[0m \u001b[0menem_media_idhm\u001b[0m\u001b[0;34m[\u001b[0m\u001b[0;34m'IDHM_L'\u001b[0m\u001b[0;34m]\u001b[0m \u001b[0;34m=\u001b[0m \u001b[0menem_media_idhm\u001b[0m\u001b[0;34m[\u001b[0m\u001b[0;34m'IDHM_L'\u001b[0m\u001b[0;34m]\u001b[0m\u001b[0;34m.\u001b[0m\u001b[0mapply\u001b[0m\u001b[0;34m(\u001b[0m\u001b[0;32mlambda\u001b[0m \u001b[0mx\u001b[0m\u001b[0;34m:\u001b[0m \u001b[0mfloat\u001b[0m\u001b[0;34m(\u001b[0m\u001b[0mstr\u001b[0m\u001b[0;34m(\u001b[0m\u001b[0mx\u001b[0m\u001b[0;34m)\u001b[0m\u001b[0;34m.\u001b[0m\u001b[0mreplace\u001b[0m\u001b[0;34m(\u001b[0m\u001b[0;34m\",\"\u001b[0m\u001b[0;34m,\u001b[0m\u001b[0;34m\".\"\u001b[0m\u001b[0;34m)\u001b[0m\u001b[0;34m)\u001b[0m\u001b[0;34m)\u001b[0m\u001b[0;34m\u001b[0m\u001b[0;34m\u001b[0m\u001b[0m\n",
      "\u001b[0;32m~/projetos Ciência de dados/Enem/analise/venv/lib/python3.8/site-packages/pandas/core/series.py\u001b[0m in \u001b[0;36mapply\u001b[0;34m(self, func, convert_dtype, args, **kwds)\u001b[0m\n\u001b[1;32m   4136\u001b[0m             \u001b[0;32melse\u001b[0m\u001b[0;34m:\u001b[0m\u001b[0;34m\u001b[0m\u001b[0;34m\u001b[0m\u001b[0m\n\u001b[1;32m   4137\u001b[0m                 \u001b[0mvalues\u001b[0m \u001b[0;34m=\u001b[0m \u001b[0mself\u001b[0m\u001b[0;34m.\u001b[0m\u001b[0mastype\u001b[0m\u001b[0;34m(\u001b[0m\u001b[0mobject\u001b[0m\u001b[0;34m)\u001b[0m\u001b[0;34m.\u001b[0m\u001b[0m_values\u001b[0m\u001b[0;34m\u001b[0m\u001b[0;34m\u001b[0m\u001b[0m\n\u001b[0;32m-> 4138\u001b[0;31m                 \u001b[0mmapped\u001b[0m \u001b[0;34m=\u001b[0m \u001b[0mlib\u001b[0m\u001b[0;34m.\u001b[0m\u001b[0mmap_infer\u001b[0m\u001b[0;34m(\u001b[0m\u001b[0mvalues\u001b[0m\u001b[0;34m,\u001b[0m \u001b[0mf\u001b[0m\u001b[0;34m,\u001b[0m \u001b[0mconvert\u001b[0m\u001b[0;34m=\u001b[0m\u001b[0mconvert_dtype\u001b[0m\u001b[0;34m)\u001b[0m\u001b[0;34m\u001b[0m\u001b[0;34m\u001b[0m\u001b[0m\n\u001b[0m\u001b[1;32m   4139\u001b[0m \u001b[0;34m\u001b[0m\u001b[0m\n\u001b[1;32m   4140\u001b[0m         \u001b[0;32mif\u001b[0m \u001b[0mlen\u001b[0m\u001b[0;34m(\u001b[0m\u001b[0mmapped\u001b[0m\u001b[0;34m)\u001b[0m \u001b[0;32mand\u001b[0m \u001b[0misinstance\u001b[0m\u001b[0;34m(\u001b[0m\u001b[0mmapped\u001b[0m\u001b[0;34m[\u001b[0m\u001b[0;36m0\u001b[0m\u001b[0;34m]\u001b[0m\u001b[0;34m,\u001b[0m \u001b[0mSeries\u001b[0m\u001b[0;34m)\u001b[0m\u001b[0;34m:\u001b[0m\u001b[0;34m\u001b[0m\u001b[0;34m\u001b[0m\u001b[0m\n",
      "\u001b[0;32mpandas/_libs/lib.pyx\u001b[0m in \u001b[0;36mpandas._libs.lib.map_infer\u001b[0;34m()\u001b[0m\n",
      "\u001b[0;32m<ipython-input-160-4b692c37cb09>\u001b[0m in \u001b[0;36m<lambda>\u001b[0;34m(x)\u001b[0m\n\u001b[1;32m      2\u001b[0m \u001b[0menem_media_idhm\u001b[0m\u001b[0;34m[\u001b[0m\u001b[0;34m'IDHM'\u001b[0m\u001b[0;34m]\u001b[0m \u001b[0;34m=\u001b[0m \u001b[0menem_media_idhm\u001b[0m\u001b[0;34m[\u001b[0m\u001b[0;34m'IDHM'\u001b[0m\u001b[0;34m]\u001b[0m\u001b[0;34m.\u001b[0m\u001b[0mapply\u001b[0m\u001b[0;34m(\u001b[0m\u001b[0;32mlambda\u001b[0m \u001b[0mx\u001b[0m\u001b[0;34m:\u001b[0m \u001b[0mfloat\u001b[0m\u001b[0;34m(\u001b[0m\u001b[0mstr\u001b[0m\u001b[0;34m(\u001b[0m\u001b[0mx\u001b[0m\u001b[0;34m)\u001b[0m\u001b[0;34m.\u001b[0m\u001b[0mreplace\u001b[0m\u001b[0;34m(\u001b[0m\u001b[0;34m\",\"\u001b[0m\u001b[0;34m,\u001b[0m\u001b[0;34m\".\"\u001b[0m\u001b[0;34m)\u001b[0m\u001b[0;34m)\u001b[0m\u001b[0;34m)\u001b[0m\u001b[0;34m\u001b[0m\u001b[0;34m\u001b[0m\u001b[0m\n\u001b[1;32m      3\u001b[0m \u001b[0menem_media_idhm\u001b[0m\u001b[0;34m[\u001b[0m\u001b[0;34m'IDHM_E'\u001b[0m\u001b[0;34m]\u001b[0m \u001b[0;34m=\u001b[0m \u001b[0menem_media_idhm\u001b[0m\u001b[0;34m[\u001b[0m\u001b[0;34m'IDHM_E'\u001b[0m\u001b[0;34m]\u001b[0m\u001b[0;34m.\u001b[0m\u001b[0mapply\u001b[0m\u001b[0;34m(\u001b[0m\u001b[0;32mlambda\u001b[0m \u001b[0mx\u001b[0m\u001b[0;34m:\u001b[0m \u001b[0mfloat\u001b[0m\u001b[0;34m(\u001b[0m\u001b[0mstr\u001b[0m\u001b[0;34m(\u001b[0m\u001b[0mx\u001b[0m\u001b[0;34m)\u001b[0m\u001b[0;34m.\u001b[0m\u001b[0mreplace\u001b[0m\u001b[0;34m(\u001b[0m\u001b[0;34m\",\"\u001b[0m\u001b[0;34m,\u001b[0m\u001b[0;34m\".\"\u001b[0m\u001b[0;34m)\u001b[0m\u001b[0;34m)\u001b[0m\u001b[0;34m)\u001b[0m\u001b[0;34m\u001b[0m\u001b[0;34m\u001b[0m\u001b[0m\n\u001b[0;32m----> 4\u001b[0;31m \u001b[0menem_media_idhm\u001b[0m\u001b[0;34m[\u001b[0m\u001b[0;34m'IDHM_R'\u001b[0m\u001b[0;34m]\u001b[0m \u001b[0;34m=\u001b[0m \u001b[0menem_media_idhm\u001b[0m\u001b[0;34m[\u001b[0m\u001b[0;34m'IDHM_R'\u001b[0m\u001b[0;34m]\u001b[0m\u001b[0;34m.\u001b[0m\u001b[0mapply\u001b[0m\u001b[0;34m(\u001b[0m\u001b[0;32mlambda\u001b[0m \u001b[0mx\u001b[0m\u001b[0;34m:\u001b[0m \u001b[0mfloat\u001b[0m\u001b[0;34m(\u001b[0m\u001b[0mstr\u001b[0m\u001b[0;34m(\u001b[0m\u001b[0mx\u001b[0m\u001b[0;34m)\u001b[0m\u001b[0;34m.\u001b[0m\u001b[0mreplace\u001b[0m\u001b[0;34m(\u001b[0m\u001b[0;34m\",\"\u001b[0m\u001b[0;34m,\u001b[0m\u001b[0;34m\".\"\u001b[0m\u001b[0;34m)\u001b[0m\u001b[0;34m)\u001b[0m\u001b[0;34m)\u001b[0m\u001b[0;34m\u001b[0m\u001b[0;34m\u001b[0m\u001b[0m\n\u001b[0m\u001b[1;32m      5\u001b[0m \u001b[0menem_media_idhm\u001b[0m\u001b[0;34m[\u001b[0m\u001b[0;34m'IDHM_L'\u001b[0m\u001b[0;34m]\u001b[0m \u001b[0;34m=\u001b[0m \u001b[0menem_media_idhm\u001b[0m\u001b[0;34m[\u001b[0m\u001b[0;34m'IDHM_L'\u001b[0m\u001b[0;34m]\u001b[0m\u001b[0;34m.\u001b[0m\u001b[0mapply\u001b[0m\u001b[0;34m(\u001b[0m\u001b[0;32mlambda\u001b[0m \u001b[0mx\u001b[0m\u001b[0;34m:\u001b[0m \u001b[0mfloat\u001b[0m\u001b[0;34m(\u001b[0m\u001b[0mstr\u001b[0m\u001b[0;34m(\u001b[0m\u001b[0mx\u001b[0m\u001b[0;34m)\u001b[0m\u001b[0;34m.\u001b[0m\u001b[0mreplace\u001b[0m\u001b[0;34m(\u001b[0m\u001b[0;34m\",\"\u001b[0m\u001b[0;34m,\u001b[0m\u001b[0;34m\".\"\u001b[0m\u001b[0;34m)\u001b[0m\u001b[0;34m)\u001b[0m\u001b[0;34m)\u001b[0m\u001b[0;34m\u001b[0m\u001b[0;34m\u001b[0m\u001b[0m\n",
      "\u001b[0;31mValueError\u001b[0m: could not convert string to float: '0.550td>'"
     ]
    }
   ],
   "source": [
    "# corrigindo formatação de números\n",
    "enem_media_idhm['IDHM'] = enem_media_idhm['IDHM'].apply(lambda x: float(str(x).replace(\",\",\".\")))\n",
    "enem_media_idhm['IDHM_E'] = enem_media_idhm['IDHM_E'].apply(lambda x: float(str(x).replace(\",\",\".\")))\n",
    "enem_media_idhm['IDHM_R'] = enem_media_idhm['IDHM_R'].apply(lambda x: float(str(x).replace(\",\",\".\")))\n",
    "enem_media_idhm['IDHM_L'] = enem_media_idhm['IDHM_L'].apply(lambda x: float(str(x).replace(\",\",\".\")))"
   ]
  },
  {
   "cell_type": "code",
   "execution_count": 161,
   "id": "74d68aab-2270-4e80-bfc6-9b30deba73e2",
   "metadata": {},
   "outputs": [],
   "source": [
    "enem_media_idhm['IDHM_R'] = enem_media_idhm['IDHM_R'].apply(lambda x: str(x).replace(\"td>\",\"\"))\n",
    "enem_media_idhm['IDHM_L'] = enem_media_idhm['IDHM_L'].apply(lambda x: str(x).replace(\"td>\",\"\"))"
   ]
  },
  {
   "cell_type": "code",
   "execution_count": 162,
   "id": "59b9a41b-e5ac-49ce-84dd-00b72c288954",
   "metadata": {},
   "outputs": [],
   "source": [
    "enem_media_idhm['IDHM_R'] = enem_media_idhm['IDHM_R'].apply(lambda x: float(str(x).replace(\",\",\".\")))\n",
    "enem_media_idhm['IDHM_L'] = enem_media_idhm['IDHM_L'].apply(lambda x: float(str(x).replace(\",\",\".\")))"
   ]
  },
  {
   "cell_type": "code",
   "execution_count": 163,
   "id": "1b12c8be-5c15-4488-9a70-5a49ad803997",
   "metadata": {},
   "outputs": [
    {
     "data": {
      "text/plain": [
       "CO_MUNICIPIO_RESIDENCIA      int64\n",
       "NO_MUNICIPIO_RESIDENCIA     object\n",
       "CO_UF_RESIDENCIA             int64\n",
       "SG_UF_RESIDENCIA            object\n",
       "NU_NOTA_CN                 float64\n",
       "NU_NOTA_CH                 float64\n",
       "NU_NOTA_LC                 float64\n",
       "NU_NOTA_MT                 float64\n",
       "NU_NOTA_REDACAO            float64\n",
       "codMunicipio                 int64\n",
       "Município                   object\n",
       "Estado                      object\n",
       "MUNICIPIO_ESTADO            object\n",
       "IDHM                       float64\n",
       "IDHM_R                     float64\n",
       "IDHM_L                     float64\n",
       "IDHM_E                     float64\n",
       "dtype: object"
      ]
     },
     "execution_count": 163,
     "metadata": {},
     "output_type": "execute_result"
    }
   ],
   "source": [
    "enem_media_idhm.dtypes"
   ]
  },
  {
   "cell_type": "code",
   "execution_count": 169,
   "id": "274cc7e0-d4d4-4fa3-907e-659544d6ffeb",
   "metadata": {},
   "outputs": [
    {
     "data": {
      "image/png": "[encoded data removed]",
      "text/plain": [
       "<Figure size 720x360 with 1 Axes>"
      ]
     },
     "metadata": {
      "needs_background": "light"
     },
     "output_type": "display_data"
    }
   ],
   "source": [
    "enem_media_idhm.plot.scatter('NU_NOTA_MT', 'IDHM', figsize=(10, 5));"
   ]
  },
  {
   "cell_type": "code",
   "execution_count": 171,
   "id": "47771992-c1a6-41a8-99e7-a8947f43472e",
   "metadata": {},
   "outputs": [
    {
     "name": "stdout",
     "output_type": "stream",
     "text": [
      "<_io.TextIOWrapper name='dados/municipios.csv' mode='r' encoding='UTF-8'>\n"
     ]
    }
   ],
   "source": [
    "with open('dados/municipios.csv') as f:\n",
    "    print(f)"
   ]
  },
  {
   "cell_type": "code",
   "execution_count": 174,
   "id": "f363e7a7-b512-4ede-be2e-eda368a5e458",
   "metadata": {},
   "outputs": [
    {
     "data": {
      "text/html": [
       "<div>\n",
       "<style scoped>\n",
       "    .dataframe tbody tr th:only-of-type {\n",
       "        vertical-align: middle;\n",
       "    }\n",
       "\n",
       "    .dataframe tbody tr th {\n",
       "        vertical-align: top;\n",
       "    }\n",
       "\n",
       "    .dataframe thead th {\n",
       "        text-align: right;\n",
       "    }\n",
       "</style>\n",
       "<table border=\"1\" class=\"dataframe\">\n",
       "  <thead>\n",
       "    <tr style=\"text-align: right;\">\n",
       "      <th></th>\n",
       "      <th>codigo_ibge</th>\n",
       "      <th>nome</th>\n",
       "      <th>latitude</th>\n",
       "      <th>longitude</th>\n",
       "      <th>capital</th>\n",
       "      <th>codigo_uf</th>\n",
       "    </tr>\n",
       "  </thead>\n",
       "  <tbody>\n",
       "    <tr>\n",
       "      <th>0</th>\n",
       "      <td>5200050</td>\n",
       "      <td>Abadia de Goiás</td>\n",
       "      <td>-16.75730</td>\n",
       "      <td>-49.4412</td>\n",
       "      <td>0</td>\n",
       "      <td>52</td>\n",
       "    </tr>\n",
       "    <tr>\n",
       "      <th>1</th>\n",
       "      <td>3100104</td>\n",
       "      <td>Abadia dos Dourados</td>\n",
       "      <td>-18.48310</td>\n",
       "      <td>-47.3916</td>\n",
       "      <td>0</td>\n",
       "      <td>31</td>\n",
       "    </tr>\n",
       "    <tr>\n",
       "      <th>2</th>\n",
       "      <td>5200100</td>\n",
       "      <td>Abadiânia</td>\n",
       "      <td>-16.19700</td>\n",
       "      <td>-48.7057</td>\n",
       "      <td>0</td>\n",
       "      <td>52</td>\n",
       "    </tr>\n",
       "    <tr>\n",
       "      <th>3</th>\n",
       "      <td>3100203</td>\n",
       "      <td>Abaeté</td>\n",
       "      <td>-19.15510</td>\n",
       "      <td>-45.4444</td>\n",
       "      <td>0</td>\n",
       "      <td>31</td>\n",
       "    </tr>\n",
       "    <tr>\n",
       "      <th>4</th>\n",
       "      <td>1500107</td>\n",
       "      <td>Abaetetuba</td>\n",
       "      <td>-1.72183</td>\n",
       "      <td>-48.8788</td>\n",
       "      <td>0</td>\n",
       "      <td>15</td>\n",
       "    </tr>\n",
       "  </tbody>\n",
       "</table>\n",
       "</div>"
      ],
      "text/plain": [
       "   codigo_ibge                 nome  latitude  longitude  capital  codigo_uf\n",
       "0      5200050      Abadia de Goiás -16.75730   -49.4412        0         52\n",
       "1      3100104  Abadia dos Dourados -18.48310   -47.3916        0         31\n",
       "2      5200100            Abadiânia -16.19700   -48.7057        0         52\n",
       "3      3100203               Abaeté -19.15510   -45.4444        0         31\n",
       "4      1500107           Abaetetuba  -1.72183   -48.8788        0         15"
      ]
     },
     "execution_count": 174,
     "metadata": {},
     "output_type": "execute_result"
    }
   ],
   "source": [
    "# Importando dados dos municipios\n",
    "municipios = pd.read_csv('dados/municipios.csv', encoding='UTF-8')\n",
    "municipios.head()"
   ]
  },
  {
   "cell_type": "code",
   "execution_count": 175,
   "id": "331353c0-3e7c-41bb-b185-9040db78929e",
   "metadata": {},
   "outputs": [],
   "source": [
    "enem_idhm_municipios = pd.merge(enem_media_idhm, municipios, how='left',\n",
    "                                left_on=['CO_MUNICIPIO_RESIDENCIA'],\n",
    "                               right_on=['codigo_ibge'])"
   ]
  },
  {
   "cell_type": "code",
   "execution_count": 176,
   "id": "070b54f6-8065-4855-a774-fcf5ea76655b",
   "metadata": {},
   "outputs": [
    {
     "data": {
      "text/html": [
       "<div>\n",
       "<style scoped>\n",
       "    .dataframe tbody tr th:only-of-type {\n",
       "        vertical-align: middle;\n",
       "    }\n",
       "\n",
       "    .dataframe tbody tr th {\n",
       "        vertical-align: top;\n",
       "    }\n",
       "\n",
       "    .dataframe thead th {\n",
       "        text-align: right;\n",
       "    }\n",
       "</style>\n",
       "<table border=\"1\" class=\"dataframe\">\n",
       "  <thead>\n",
       "    <tr style=\"text-align: right;\">\n",
       "      <th></th>\n",
       "      <th>CO_MUNICIPIO_RESIDENCIA</th>\n",
       "      <th>NO_MUNICIPIO_RESIDENCIA</th>\n",
       "      <th>CO_UF_RESIDENCIA</th>\n",
       "      <th>SG_UF_RESIDENCIA</th>\n",
       "      <th>NU_NOTA_CN</th>\n",
       "      <th>NU_NOTA_CH</th>\n",
       "      <th>NU_NOTA_LC</th>\n",
       "      <th>NU_NOTA_MT</th>\n",
       "      <th>NU_NOTA_REDACAO</th>\n",
       "      <th>codMunicipio</th>\n",
       "      <th>...</th>\n",
       "      <th>IDHM</th>\n",
       "      <th>IDHM_R</th>\n",
       "      <th>IDHM_L</th>\n",
       "      <th>IDHM_E</th>\n",
       "      <th>codigo_ibge</th>\n",
       "      <th>nome</th>\n",
       "      <th>latitude</th>\n",
       "      <th>longitude</th>\n",
       "      <th>capital</th>\n",
       "      <th>codigo_uf</th>\n",
       "    </tr>\n",
       "  </thead>\n",
       "  <tbody>\n",
       "    <tr>\n",
       "      <th>0</th>\n",
       "      <td>1100015</td>\n",
       "      <td>Alta Floresta D'Oeste</td>\n",
       "      <td>11</td>\n",
       "      <td>RO</td>\n",
       "      <td>466.877454</td>\n",
       "      <td>493.412214</td>\n",
       "      <td>504.998473</td>\n",
       "      <td>503.000000</td>\n",
       "      <td>555.776081</td>\n",
       "      <td>1100015</td>\n",
       "      <td>...</td>\n",
       "      <td>0.641</td>\n",
       "      <td>0.657</td>\n",
       "      <td>0.763</td>\n",
       "      <td>0.526</td>\n",
       "      <td>1100015</td>\n",
       "      <td>Alta Floresta D'Oeste</td>\n",
       "      <td>-11.92830</td>\n",
       "      <td>-61.9953</td>\n",
       "      <td>0</td>\n",
       "      <td>11</td>\n",
       "    </tr>\n",
       "    <tr>\n",
       "      <th>1</th>\n",
       "      <td>1100023</td>\n",
       "      <td>Ariquemes</td>\n",
       "      <td>11</td>\n",
       "      <td>RO</td>\n",
       "      <td>463.542845</td>\n",
       "      <td>489.960333</td>\n",
       "      <td>506.999802</td>\n",
       "      <td>498.971037</td>\n",
       "      <td>524.149147</td>\n",
       "      <td>1100023</td>\n",
       "      <td>...</td>\n",
       "      <td>0.702</td>\n",
       "      <td>0.716</td>\n",
       "      <td>0.806</td>\n",
       "      <td>0.600</td>\n",
       "      <td>1100023</td>\n",
       "      <td>Ariquemes</td>\n",
       "      <td>-9.90571</td>\n",
       "      <td>-63.0325</td>\n",
       "      <td>0</td>\n",
       "      <td>11</td>\n",
       "    </tr>\n",
       "    <tr>\n",
       "      <th>2</th>\n",
       "      <td>1100031</td>\n",
       "      <td>Cabixi</td>\n",
       "      <td>11</td>\n",
       "      <td>RO</td>\n",
       "      <td>454.453125</td>\n",
       "      <td>474.152239</td>\n",
       "      <td>486.223881</td>\n",
       "      <td>497.443750</td>\n",
       "      <td>492.835821</td>\n",
       "      <td>1100031</td>\n",
       "      <td>...</td>\n",
       "      <td>0.650</td>\n",
       "      <td>0.650</td>\n",
       "      <td>0.757</td>\n",
       "      <td>0.559</td>\n",
       "      <td>1100031</td>\n",
       "      <td>Cabixi</td>\n",
       "      <td>-13.49450</td>\n",
       "      <td>-60.5520</td>\n",
       "      <td>0</td>\n",
       "      <td>11</td>\n",
       "    </tr>\n",
       "    <tr>\n",
       "      <th>3</th>\n",
       "      <td>1100049</td>\n",
       "      <td>Cacoal</td>\n",
       "      <td>11</td>\n",
       "      <td>RO</td>\n",
       "      <td>469.165657</td>\n",
       "      <td>494.664063</td>\n",
       "      <td>510.185132</td>\n",
       "      <td>510.684635</td>\n",
       "      <td>538.657074</td>\n",
       "      <td>1100049</td>\n",
       "      <td>...</td>\n",
       "      <td>0.718</td>\n",
       "      <td>0.727</td>\n",
       "      <td>0.821</td>\n",
       "      <td>0.620</td>\n",
       "      <td>1100049</td>\n",
       "      <td>Cacoal</td>\n",
       "      <td>-11.43430</td>\n",
       "      <td>-61.4562</td>\n",
       "      <td>0</td>\n",
       "      <td>11</td>\n",
       "    </tr>\n",
       "    <tr>\n",
       "      <th>4</th>\n",
       "      <td>1100056</td>\n",
       "      <td>Cerejeiras</td>\n",
       "      <td>11</td>\n",
       "      <td>RO</td>\n",
       "      <td>468.381164</td>\n",
       "      <td>488.456536</td>\n",
       "      <td>507.604902</td>\n",
       "      <td>505.175685</td>\n",
       "      <td>552.222222</td>\n",
       "      <td>1100056</td>\n",
       "      <td>...</td>\n",
       "      <td>0.692</td>\n",
       "      <td>0.688</td>\n",
       "      <td>0.799</td>\n",
       "      <td>0.602</td>\n",
       "      <td>1100056</td>\n",
       "      <td>Cerejeiras</td>\n",
       "      <td>-13.18700</td>\n",
       "      <td>-60.8168</td>\n",
       "      <td>0</td>\n",
       "      <td>11</td>\n",
       "    </tr>\n",
       "  </tbody>\n",
       "</table>\n",
       "<p>5 rows × 23 columns</p>\n",
       "</div>"
      ],
      "text/plain": [
       "   CO_MUNICIPIO_RESIDENCIA NO_MUNICIPIO_RESIDENCIA  CO_UF_RESIDENCIA  \\\n",
       "0                  1100015   Alta Floresta D'Oeste                11   \n",
       "1                  1100023               Ariquemes                11   \n",
       "2                  1100031                  Cabixi                11   \n",
       "3                  1100049                  Cacoal                11   \n",
       "4                  1100056              Cerejeiras                11   \n",
       "\n",
       "  SG_UF_RESIDENCIA  NU_NOTA_CN  NU_NOTA_CH  NU_NOTA_LC  NU_NOTA_MT  \\\n",
       "0               RO  466.877454  493.412214  504.998473  503.000000   \n",
       "1               RO  463.542845  489.960333  506.999802  498.971037   \n",
       "2               RO  454.453125  474.152239  486.223881  497.443750   \n",
       "3               RO  469.165657  494.664063  510.185132  510.684635   \n",
       "4               RO  468.381164  488.456536  507.604902  505.175685   \n",
       "\n",
       "   NU_NOTA_REDACAO  codMunicipio  ...   IDHM IDHM_R IDHM_L  IDHM_E  \\\n",
       "0       555.776081       1100015  ...  0.641  0.657  0.763   0.526   \n",
       "1       524.149147       1100023  ...  0.702  0.716  0.806   0.600   \n",
       "2       492.835821       1100031  ...  0.650  0.650  0.757   0.559   \n",
       "3       538.657074       1100049  ...  0.718  0.727  0.821   0.620   \n",
       "4       552.222222       1100056  ...  0.692  0.688  0.799   0.602   \n",
       "\n",
       "   codigo_ibge                   nome  latitude  longitude capital  codigo_uf  \n",
       "0      1100015  Alta Floresta D'Oeste -11.92830   -61.9953       0         11  \n",
       "1      1100023              Ariquemes  -9.90571   -63.0325       0         11  \n",
       "2      1100031                 Cabixi -13.49450   -60.5520       0         11  \n",
       "3      1100049                 Cacoal -11.43430   -61.4562       0         11  \n",
       "4      1100056             Cerejeiras -13.18700   -60.8168       0         11  \n",
       "\n",
       "[5 rows x 23 columns]"
      ]
     },
     "execution_count": 176,
     "metadata": {},
     "output_type": "execute_result"
    }
   ],
   "source": [
    "enem_idhm_municipios.head()"
   ]
  },
  {
   "cell_type": "code",
   "execution_count": 189,
   "id": "06f60ff0-167d-446a-ac20-bd37d1aca3c5",
   "metadata": {},
   "outputs": [
    {
     "data": {
      "image/png": "[encoded data removed]",
      "text/plain": [
       "<Figure size 720x576 with 2 Axes>"
      ]
     },
     "metadata": {
      "needs_background": "light"
     },
     "output_type": "display_data"
    }
   ],
   "source": [
    "# (c) é o parâmetro pra cor do ponto do gráfico\n",
    "enem_idhm_municipios.plot.scatter(y='latitude', x='longitude', c='NU_NOTA_REDACAO', \n",
    "                                  colormap='RdYlGn', figsize=(10,8), title='Nota Redação por Município');"
   ]
  }
 ],
 "metadata": {
  "kernelspec": {
   "display_name": "Python 3",
   "language": "python",
   "name": "python3"
  },
  "language_info": {
   "codemirror_mode": {
    "name": "ipython",
    "version": 3
   },
   "file_extension": ".py",
   "mimetype": "text/x-python",
   "name": "python",
   "nbconvert_exporter": "python",
   "pygments_lexer": "ipython3",
   "version": "3.8.5"
  }
 },
 "nbformat": 4,
 "nbformat_minor": 5
}
