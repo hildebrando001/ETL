{
 "metadata": {
  "language_info": {
   "codemirror_mode": {
    "name": "ipython",
    "version": 3
   },
   "file_extension": ".py",
   "mimetype": "text/x-python",
   "name": "python",
   "nbconvert_exporter": "python",
   "pygments_lexer": "ipython3",
   "version": "3.8.5"
  },
  "orig_nbformat": 2,
  "kernelspec": {
   "name": "pythonjvsc74a57bd00fd23c7f8c54f212ba84d8da831f2c993a7947c70c11f4cb0ca7bb01cc203084",
   "display_name": "Python 3.8.5  ('venv': venv)"
  },
  "metadata": {
   "interpreter": {
    "hash": "0fd23c7f8c54f212ba84d8da831f2c993a7947c70c11f4cb0ca7bb01cc203084"
   }
  }
 },
 "nbformat": 4,
 "nbformat_minor": 2,
 "cells": [
  {
   "source": [
    "# Dask"
   ],
   "cell_type": "markdown",
   "metadata": {}
  },
  {
   "cell_type": "code",
   "execution_count": 17,
   "metadata": {},
   "outputs": [],
   "source": [
    "import pandas as pd\n",
    "import time as tm\n",
    "from dask import dataframe as dd"
   ]
  },
  {
   "cell_type": "code",
   "execution_count": 15,
   "metadata": {},
   "outputs": [
    {
     "output_type": "stream",
     "name": "stdout",
     "text": [
      "Duração: 3.65 segundos, sem usar o dask\n"
     ]
    }
   ],
   "source": [
    "inicio = tm.time()\n",
    "vendas = pd.read_csv(\"2019-Oct.csv\")\n",
    "fim    = tm.time()\n",
    "\n",
    "print(\"Duração:\", round(fim - inicio, 2), \"segundos, sem usar o dask\")"
   ]
  },
  {
   "cell_type": "code",
   "execution_count": 6,
   "metadata": {},
   "outputs": [
    {
     "output_type": "stream",
     "name": "stdout",
     "text": [
      "<class 'pandas.core.frame.DataFrame'>\nRangeIndex: 424487 entries, 0 to 424486\nData columns (total 9 columns):\n #   Column         Non-Null Count   Dtype  \n---  ------         --------------   -----  \n 0   event_time     424487 non-null  object \n 1   event_type     424487 non-null  object \n 2   product_id     424487 non-null  int64  \n 3   category_id    424487 non-null  int64  \n 4   category_code  289544 non-null  object \n 5   brand          363069 non-null  object \n 6   price          424487 non-null  float64\n 7   user_id        424487 non-null  int64  \n 8   user_session   424487 non-null  object \ndtypes: float64(1), int64(3), object(5)\nmemory usage: 157.4 MB\n"
     ]
    }
   ],
   "source": [
    "vendas.info(memory_usage='deep')"
   ]
  },
  {
   "cell_type": "code",
   "execution_count": 7,
   "metadata": {},
   "outputs": [
    {
     "output_type": "stream",
     "name": "stdout",
     "text": [
      "Total de memória utilizada por float: 3.24 MB\n",
      "Total de memória utilizada por int64: 9.72 MB\n",
      "Total de memória utilizada por object: 144.48 MB\n"
     ]
    }
   ],
   "source": [
    "for tipos in ['float','int64','object']:\n",
    "    selecao_tipos  = vendas.select_dtypes(include=[tipos])\n",
    "    total_usado_b  = selecao_tipos.memory_usage(deep=True).sum()\n",
    "    total_usado_mb = round(total_usado_b / 1024 ** 2, 2)\n",
    "    print(f\"Total de memória utilizada por {tipos}: {total_usado_mb} MB\")"
   ]
  },
  {
   "source": [
    "## Mudando tipos de dados para reduzir uso de memória"
   ],
   "cell_type": "markdown",
   "metadata": {}
  },
  {
   "cell_type": "code",
   "execution_count": 8,
   "metadata": {},
   "outputs": [
    {
     "output_type": "stream",
     "name": "stdout",
     "text": [
      "Tamanho: 98.85 MB\n"
     ]
    }
   ],
   "source": [
    "lista_tipo_object = vendas.select_dtypes('object').columns\n",
    "\n",
    "vendas[lista_tipo_object] = vendas[lista_tipo_object].astype('category')\n",
    "\n",
    "print(\"Tamanho:\", round(vendas.memory_usage(deep=True).sum() / 1024 ** 2, 2), 'MB')"
   ]
  },
  {
   "source": [
    "## Trabalhando com DASK"
   ],
   "cell_type": "markdown",
   "metadata": {}
  },
  {
   "cell_type": "code",
   "execution_count": 9,
   "metadata": {},
   "outputs": [
    {
     "output_type": "stream",
     "name": "stdout",
     "text": [
      "Collecting dask[dataframe]\n",
      "  Using cached dask-2021.6.0-py3-none-any.whl (965 kB)\n",
      "Requirement already satisfied: toolz>=0.8.2 in /home/hildebrando/projetos Ciência de dados/ML - Big Five Personality Traits/venv/lib/python3.8/site-packages (from dask[dataframe]) (0.11.1)\n",
      "Collecting cloudpickle>=1.1.1\n",
      "  Using cached cloudpickle-1.6.0-py3-none-any.whl (23 kB)\n",
      "Collecting partd>=0.3.10\n",
      "  Using cached partd-1.2.0-py3-none-any.whl (19 kB)\n",
      "Collecting pyyaml\n",
      "  Using cached PyYAML-5.4.1-cp38-cp38-manylinux1_x86_64.whl (662 kB)\n",
      "Collecting fsspec>=0.6.0\n",
      "  Using cached fsspec-2021.6.0-py3-none-any.whl (114 kB)\n",
      "Requirement already satisfied: numpy>=1.16 in /home/hildebrando/projetos Ciência de dados/ML - Big Five Personality Traits/venv/lib/python3.8/site-packages (from dask[dataframe]) (1.20.3)\n",
      "Requirement already satisfied: pandas>=0.25.0 in /home/hildebrando/projetos Ciência de dados/ML - Big Five Personality Traits/venv/lib/python3.8/site-packages (from dask[dataframe]) (1.2.4)\n",
      "Requirement already satisfied: python-dateutil>=2.7.3 in /home/hildebrando/projetos Ciência de dados/ML - Big Five Personality Traits/venv/lib/python3.8/site-packages (from pandas>=0.25.0->dask[dataframe]) (2.8.1)\n",
      "Requirement already satisfied: pytz>=2017.3 in /home/hildebrando/projetos Ciência de dados/ML - Big Five Personality Traits/venv/lib/python3.8/site-packages (from pandas>=0.25.0->dask[dataframe]) (2021.1)\n",
      "Collecting locket\n",
      "  Using cached locket-0.2.1-py2.py3-none-any.whl (4.1 kB)\n",
      "Requirement already satisfied: six>=1.5 in /home/hildebrando/projetos Ciência de dados/ML - Big Five Personality Traits/venv/lib/python3.8/site-packages (from python-dateutil>=2.7.3->pandas>=0.25.0->dask[dataframe]) (1.16.0)\n",
      "Installing collected packages: locket, pyyaml, partd, fsspec, cloudpickle, dask\n",
      "Successfully installed cloudpickle-1.6.0 dask-2021.6.0 fsspec-2021.6.0 locket-0.2.1 partd-1.2.0 pyyaml-5.4.1\n"
     ]
    }
   ],
   "source": [
    "# !pip install dask[dataframe]"
   ]
  },
  {
   "cell_type": "code",
   "execution_count": 24,
   "metadata": {},
   "outputs": [
    {
     "output_type": "stream",
     "name": "stdout",
     "text": [
      "Duração: 4.66 segundos, usando DASK\n",
      "<class 'pandas.core.frame.DataFrame'>\n",
      "RangeIndex: 424487 entries, 0 to 424486\n",
      "Data columns (total 9 columns):\n",
      " #   Column         Non-Null Count   Dtype  \n",
      "---  ------         --------------   -----  \n",
      " 0   event_time     424487 non-null  object \n",
      " 1   event_type     424487 non-null  object \n",
      " 2   product_id     424487 non-null  int64  \n",
      " 3   category_id    424487 non-null  int64  \n",
      " 4   category_code  289544 non-null  object \n",
      " 5   brand          363069 non-null  object \n",
      " 6   price          424487 non-null  float64\n",
      " 7   user_id        424487 non-null  int64  \n",
      " 8   user_session   424487 non-null  object \n",
      "dtypes: float64(1), int64(3), object(5)\n",
      "memory usage: 157.4 MB\n"
     ]
    }
   ],
   "source": [
    "inicio = tm.time()\n",
    "dd_vendas = dd.read_csv(\"2019-Oct.csv\", blocksize=100 * 1024 * 1024) # Blocos de 100mb\n",
    "df_vendas = dd_vendas.compute(num_workers=8)\n",
    "fim    = tm.time()\n",
    "\n",
    "print(\"Duração:\", round(fim - inicio, 2), \"segundos, usando DASK\")\n",
    "df_vendas.info(memory_usage='deep')"
   ]
  },
  {
   "cell_type": "code",
   "execution_count": 25,
   "metadata": {},
   "outputs": [
    {
     "output_type": "execute_result",
     "data": {
      "text/plain": [
       "Dask DataFrame Structure:\n",
       "              event_time event_type product_id category_id category_code   brand    price user_id user_session\n",
       "npartitions=1                                                                                                 \n",
       "                  object     object      int64       int64        object  object  float64   int64       object\n",
       "                     ...        ...        ...         ...           ...     ...      ...     ...          ...\n",
       "Dask Name: read-csv, 1 tasks"
      ],
      "text/html": "<div><strong>Dask DataFrame Structure:</strong></div>\n<div>\n<style scoped>\n    .dataframe tbody tr th:only-of-type {\n        vertical-align: middle;\n    }\n\n    .dataframe tbody tr th {\n        vertical-align: top;\n    }\n\n    .dataframe thead th {\n        text-align: right;\n    }\n</style>\n<table border=\"1\" class=\"dataframe\">\n  <thead>\n    <tr style=\"text-align: right;\">\n      <th></th>\n      <th>event_time</th>\n      <th>event_type</th>\n      <th>product_id</th>\n      <th>category_id</th>\n      <th>category_code</th>\n      <th>brand</th>\n      <th>price</th>\n      <th>user_id</th>\n      <th>user_session</th>\n    </tr>\n    <tr>\n      <th>npartitions=1</th>\n      <th></th>\n      <th></th>\n      <th></th>\n      <th></th>\n      <th></th>\n      <th></th>\n      <th></th>\n      <th></th>\n      <th></th>\n    </tr>\n  </thead>\n  <tbody>\n    <tr>\n      <th></th>\n      <td>object</td>\n      <td>object</td>\n      <td>int64</td>\n      <td>int64</td>\n      <td>object</td>\n      <td>object</td>\n      <td>float64</td>\n      <td>int64</td>\n      <td>object</td>\n    </tr>\n    <tr>\n      <th></th>\n      <td>...</td>\n      <td>...</td>\n      <td>...</td>\n      <td>...</td>\n      <td>...</td>\n      <td>...</td>\n      <td>...</td>\n      <td>...</td>\n      <td>...</td>\n    </tr>\n  </tbody>\n</table>\n</div>\n<div>Dask Name: read-csv, 1 tasks</div>"
     },
     "metadata": {},
     "execution_count": 25
    }
   ],
   "source": [
    "dd_vendas"
   ]
  },
  {
   "cell_type": "code",
   "execution_count": 27,
   "metadata": {},
   "outputs": [
    {
     "output_type": "execute_result",
     "data": {
      "text/plain": [
       "                event_time event_type  product_id          category_id  \\\n",
       "0  2019-10-01 00:00:18 UTC       view     1801995  2053013554415534427   \n",
       "1  2019-10-01 00:00:36 UTC       view     3600575  2053013563810775923   \n",
       "2  2019-10-01 00:01:58 UTC       view     4100274  2053013561218695907   \n",
       "\n",
       "               category_code             brand   price    user_id  \\\n",
       "0       electronics.video.tv             haier  193.03  537192226   \n",
       "1  appliances.kitchen.washer  hotpoint-ariston  275.37  554754045   \n",
       "2                        NaN         microsoft  275.40  519885473   \n",
       "\n",
       "                           user_session  \n",
       "0  e3151795-c355-4efa-acf6-e1fe1bebeee5  \n",
       "1  bd0302ef-c5ca-4b6a-b916-95cc2840c72c  \n",
       "2  b70cb218-db90-4011-b582-0bd237109df1  "
      ],
      "text/html": "<div>\n<style scoped>\n    .dataframe tbody tr th:only-of-type {\n        vertical-align: middle;\n    }\n\n    .dataframe tbody tr th {\n        vertical-align: top;\n    }\n\n    .dataframe thead th {\n        text-align: right;\n    }\n</style>\n<table border=\"1\" class=\"dataframe\">\n  <thead>\n    <tr style=\"text-align: right;\">\n      <th></th>\n      <th>event_time</th>\n      <th>event_type</th>\n      <th>product_id</th>\n      <th>category_id</th>\n      <th>category_code</th>\n      <th>brand</th>\n      <th>price</th>\n      <th>user_id</th>\n      <th>user_session</th>\n    </tr>\n  </thead>\n  <tbody>\n    <tr>\n      <th>0</th>\n      <td>2019-10-01 00:00:18 UTC</td>\n      <td>view</td>\n      <td>1801995</td>\n      <td>2053013554415534427</td>\n      <td>electronics.video.tv</td>\n      <td>haier</td>\n      <td>193.03</td>\n      <td>537192226</td>\n      <td>e3151795-c355-4efa-acf6-e1fe1bebeee5</td>\n    </tr>\n    <tr>\n      <th>1</th>\n      <td>2019-10-01 00:00:36 UTC</td>\n      <td>view</td>\n      <td>3600575</td>\n      <td>2053013563810775923</td>\n      <td>appliances.kitchen.washer</td>\n      <td>hotpoint-ariston</td>\n      <td>275.37</td>\n      <td>554754045</td>\n      <td>bd0302ef-c5ca-4b6a-b916-95cc2840c72c</td>\n    </tr>\n    <tr>\n      <th>2</th>\n      <td>2019-10-01 00:01:58 UTC</td>\n      <td>view</td>\n      <td>4100274</td>\n      <td>2053013561218695907</td>\n      <td>NaN</td>\n      <td>microsoft</td>\n      <td>275.40</td>\n      <td>519885473</td>\n      <td>b70cb218-db90-4011-b582-0bd237109df1</td>\n    </tr>\n  </tbody>\n</table>\n</div>"
     },
     "metadata": {},
     "execution_count": 27
    }
   ],
   "source": [
    "df_vendas.head(3)"
   ]
  },
  {
   "cell_type": "code",
   "execution_count": 31,
   "metadata": {},
   "outputs": [
    {
     "output_type": "execute_result",
     "data": {
      "text/plain": [
       "                     event_time event_type  product_id          category_id  \\\n",
       "424484  2019-10-31 23:58:50 UTC       view     1306421  2053013558920217191   \n",
       "424485  2019-10-31 23:59:01 UTC       view     2702481  2053013563911439225   \n",
       "424486  2019-10-31 23:59:40 UTC       view     1004566  2053013555631882655   \n",
       "\n",
       "                           category_code   brand   price    user_id  \\\n",
       "424484                computers.notebook      hp  514.56  530857208   \n",
       "424485  appliances.kitchen.refrigerators   midea  143.89  559215873   \n",
       "424486            electronics.smartphone  huawei  164.84  566265908   \n",
       "\n",
       "                                user_session  \n",
       "424484  c69f9c63-7098-426c-97d9-8cb94a0a1083  \n",
       "424485  26ca9bd8-21bd-47b9-b227-b6a083bde2a7  \n",
       "424486  52c2c76c-b79e-4794-86ff-badc76d35f5a  "
      ],
      "text/html": "<div>\n<style scoped>\n    .dataframe tbody tr th:only-of-type {\n        vertical-align: middle;\n    }\n\n    .dataframe tbody tr th {\n        vertical-align: top;\n    }\n\n    .dataframe thead th {\n        text-align: right;\n    }\n</style>\n<table border=\"1\" class=\"dataframe\">\n  <thead>\n    <tr style=\"text-align: right;\">\n      <th></th>\n      <th>event_time</th>\n      <th>event_type</th>\n      <th>product_id</th>\n      <th>category_id</th>\n      <th>category_code</th>\n      <th>brand</th>\n      <th>price</th>\n      <th>user_id</th>\n      <th>user_session</th>\n    </tr>\n  </thead>\n  <tbody>\n    <tr>\n      <th>424484</th>\n      <td>2019-10-31 23:58:50 UTC</td>\n      <td>view</td>\n      <td>1306421</td>\n      <td>2053013558920217191</td>\n      <td>computers.notebook</td>\n      <td>hp</td>\n      <td>514.56</td>\n      <td>530857208</td>\n      <td>c69f9c63-7098-426c-97d9-8cb94a0a1083</td>\n    </tr>\n    <tr>\n      <th>424485</th>\n      <td>2019-10-31 23:59:01 UTC</td>\n      <td>view</td>\n      <td>2702481</td>\n      <td>2053013563911439225</td>\n      <td>appliances.kitchen.refrigerators</td>\n      <td>midea</td>\n      <td>143.89</td>\n      <td>559215873</td>\n      <td>26ca9bd8-21bd-47b9-b227-b6a083bde2a7</td>\n    </tr>\n    <tr>\n      <th>424486</th>\n      <td>2019-10-31 23:59:40 UTC</td>\n      <td>view</td>\n      <td>1004566</td>\n      <td>2053013555631882655</td>\n      <td>electronics.smartphone</td>\n      <td>huawei</td>\n      <td>164.84</td>\n      <td>566265908</td>\n      <td>52c2c76c-b79e-4794-86ff-badc76d35f5a</td>\n    </tr>\n  </tbody>\n</table>\n</div>"
     },
     "metadata": {},
     "execution_count": 31
    }
   ],
   "source": [
    "df_vendas.tail(3)"
   ]
  },
  {
   "cell_type": "code",
   "execution_count": 34,
   "metadata": {},
   "outputs": [
    {
     "output_type": "execute_result",
     "data": {
      "text/plain": [
       "(424487, 9)"
      ]
     },
     "metadata": {},
     "execution_count": 34
    }
   ],
   "source": [
    "df_vendas.shape"
   ]
  },
  {
   "cell_type": "code",
   "execution_count": null,
   "metadata": {},
   "outputs": [],
   "source": []
  }
 ]
}